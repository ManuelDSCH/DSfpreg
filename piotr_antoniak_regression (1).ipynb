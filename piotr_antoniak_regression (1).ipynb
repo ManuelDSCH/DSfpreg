{
 "cells": [
  {
   "cell_type": "code",
   "execution_count": 24,
   "metadata": {},
   "outputs": [],
   "source": [
    "import pandas as pd\n",
    "import numpy as np\n",
    "import seaborn as sns\n",
    "import matplotlib.pyplot as plt\n",
    "import warnings\n",
    "\n",
    "warnings.filterwarnings('ignore')\n",
    "plt.rcParams['figure.figsize'] = [6, 4]\n",
    "plt.rcParams['figure.dpi'] = 200\n",
    "pd.set_option('display.max_columns', 5000)"
   ]
  },
  {
   "cell_type": "code",
   "execution_count": 71,
   "metadata": {},
   "outputs": [],
   "source": [
    "y_train=pd.read_csv(\"y_trainS.csv\")\n",
    "y_train.drop(\"Unnamed: 0\", inplace = True, axis = 1)\n",
    "y_train = y_train.values\n",
    "y_test=pd.read_csv(\"y_testS.csv\")\n",
    "y_test.drop(\"Unnamed: 0\", inplace = True, axis = 1)\n",
    "y_test = y_test.values\n",
    "\n",
    "X_train=pd.read_csv(\"X_train_impute.csv\")\n",
    "X_train= X_train.apply(lambda x: x.fillna(x.median()),axis=0)\n",
    "X_train.drop(\"Unnamed: 0\", inplace = True, axis = 1)\n",
    "X_train = X_train.values\n",
    "\n",
    "X_test=pd.read_csv(\"X_test_impute.csv\")\n",
    "X_test= X_test.apply(lambda x: x.fillna(x.median()),axis=0)\n",
    "X_test.drop(\"Unnamed: 0\", inplace = True, axis = 1)\n",
    "X_test = X_test.values\n",
    "\n",
    "test=pd.read_csv(\"test_impute.csv\")\n",
    "test = test.apply(lambda x: x.fillna(x.median()),axis=0)\n",
    "test.drop(\"Unnamed: 0\", inplace = True, axis = 1)\n"
   ]
  },
  {
   "cell_type": "code",
   "execution_count": 37,
   "metadata": {},
   "outputs": [
    {
     "data": {
      "text/plain": [
       "(11072, 53)"
      ]
     },
     "execution_count": 37,
     "metadata": {},
     "output_type": "execute_result"
    }
   ],
   "source": [
    "X_train.shape"
   ]
  },
  {
   "cell_type": "code",
   "execution_count": 18,
   "metadata": {},
   "outputs": [],
   "source": [
    "data = pd.read_csv(\"train_los.csv\")\n",
    "test = pd.read_csv(\"test_los.csv\")\n",
    "submission = pd.read_csv(\"sample_sol_los.csv\")"
   ]
  },
  {
   "cell_type": "code",
   "execution_count": 3,
   "metadata": {},
   "outputs": [
    {
     "data": {
      "text/plain": [
       "0        69.0\n",
       "1        79.0\n",
       "2        74.0\n",
       "3        71.0\n",
       "4        85.0\n",
       "         ... \n",
       "13835    69.0\n",
       "13836    86.0\n",
       "13837    88.0\n",
       "13838    68.0\n",
       "13839    67.0\n",
       "Name: AGE, Length: 13840, dtype: float64"
      ]
     },
     "execution_count": 3,
     "metadata": {},
     "output_type": "execute_result"
    }
   ],
   "source": [
    "test[\"AGE\"] = (pd.to_datetime(test[\"ADMITTIME\"])- pd.to_datetime(test[\"DOB\"])).dt.total_seconds()//3.154e+7\n",
    "data[\"AGE\"] = (pd.to_datetime(data[\"ADMITTIME\"])- pd.to_datetime(data[\"DOB\"])).dt.total_seconds()//3.154e+7\n",
    "data[\"AGE\"]"
   ]
  },
  {
   "cell_type": "code",
   "execution_count": 4,
   "metadata": {},
   "outputs": [
    {
     "data": {
      "text/html": [
       "<div>\n",
       "<style scoped>\n",
       "    .dataframe tbody tr th:only-of-type {\n",
       "        vertical-align: middle;\n",
       "    }\n",
       "\n",
       "    .dataframe tbody tr th {\n",
       "        vertical-align: top;\n",
       "    }\n",
       "\n",
       "    .dataframe thead th {\n",
       "        text-align: right;\n",
       "    }\n",
       "</style>\n",
       "<table border=\"1\" class=\"dataframe\">\n",
       "  <thead>\n",
       "    <tr style=\"text-align: right;\">\n",
       "      <th></th>\n",
       "      <th>subject_id</th>\n",
       "      <th>hadm_id</th>\n",
       "      <th>icustay_id</th>\n",
       "      <th>HeartRate_Min</th>\n",
       "      <th>HeartRate_Max</th>\n",
       "      <th>HeartRate_Mean</th>\n",
       "      <th>SysBP_Min</th>\n",
       "      <th>SysBP_Max</th>\n",
       "      <th>SysBP_Mean</th>\n",
       "      <th>DiasBP_Min</th>\n",
       "      <th>DiasBP_Max</th>\n",
       "      <th>DiasBP_Mean</th>\n",
       "      <th>MeanBP_Min</th>\n",
       "      <th>MeanBP_Max</th>\n",
       "      <th>MeanBP_Mean</th>\n",
       "      <th>RespRate_Min</th>\n",
       "      <th>RespRate_Max</th>\n",
       "      <th>RespRate_Mean</th>\n",
       "      <th>TempC_Min</th>\n",
       "      <th>TempC_Max</th>\n",
       "      <th>TempC_Mean</th>\n",
       "      <th>SpO2_Min</th>\n",
       "      <th>SpO2_Max</th>\n",
       "      <th>SpO2_Mean</th>\n",
       "      <th>Glucose_Min</th>\n",
       "      <th>Glucose_Max</th>\n",
       "      <th>Glucose_Mean</th>\n",
       "      <th>GENDER</th>\n",
       "      <th>DOB</th>\n",
       "      <th>ADMITTIME</th>\n",
       "      <th>ADMISSION_TYPE</th>\n",
       "      <th>INSURANCE</th>\n",
       "      <th>RELIGION</th>\n",
       "      <th>MARITAL_STATUS</th>\n",
       "      <th>ETHNICITY</th>\n",
       "      <th>DIAGNOSIS</th>\n",
       "      <th>ICD9_diagnosis</th>\n",
       "      <th>FIRST_CAREUNIT</th>\n",
       "      <th>LOS</th>\n",
       "      <th>AGE</th>\n",
       "    </tr>\n",
       "  </thead>\n",
       "  <tbody>\n",
       "    <tr>\n",
       "      <th>0</th>\n",
       "      <td>55440</td>\n",
       "      <td>195768</td>\n",
       "      <td>228357</td>\n",
       "      <td>89.0</td>\n",
       "      <td>145.0</td>\n",
       "      <td>121.043478</td>\n",
       "      <td>74.0</td>\n",
       "      <td>127.0</td>\n",
       "      <td>106.586957</td>\n",
       "      <td>42.0</td>\n",
       "      <td>90.0</td>\n",
       "      <td>61.173913</td>\n",
       "      <td>59.0</td>\n",
       "      <td>94.0</td>\n",
       "      <td>74.543478</td>\n",
       "      <td>15.0</td>\n",
       "      <td>30.0</td>\n",
       "      <td>22.347826</td>\n",
       "      <td>35.111111</td>\n",
       "      <td>36.944444</td>\n",
       "      <td>36.080247</td>\n",
       "      <td>90.0</td>\n",
       "      <td>99.0</td>\n",
       "      <td>95.739130</td>\n",
       "      <td>111.0</td>\n",
       "      <td>230.0</td>\n",
       "      <td>160.777778</td>\n",
       "      <td>F</td>\n",
       "      <td>1938-11-23</td>\n",
       "      <td>2008-06-15</td>\n",
       "      <td>EMERGENCY</td>\n",
       "      <td>Medicare</td>\n",
       "      <td>PROTESTANT QUAKER</td>\n",
       "      <td>SINGLE</td>\n",
       "      <td>WHITE</td>\n",
       "      <td>GASTROINTESTINAL BLEED</td>\n",
       "      <td>5789</td>\n",
       "      <td>MICU</td>\n",
       "      <td>4.5761</td>\n",
       "      <td>69.0</td>\n",
       "    </tr>\n",
       "    <tr>\n",
       "      <th>1</th>\n",
       "      <td>28424</td>\n",
       "      <td>127337</td>\n",
       "      <td>225281</td>\n",
       "      <td>NaN</td>\n",
       "      <td>NaN</td>\n",
       "      <td>NaN</td>\n",
       "      <td>NaN</td>\n",
       "      <td>NaN</td>\n",
       "      <td>NaN</td>\n",
       "      <td>NaN</td>\n",
       "      <td>NaN</td>\n",
       "      <td>NaN</td>\n",
       "      <td>NaN</td>\n",
       "      <td>NaN</td>\n",
       "      <td>NaN</td>\n",
       "      <td>NaN</td>\n",
       "      <td>NaN</td>\n",
       "      <td>NaN</td>\n",
       "      <td>NaN</td>\n",
       "      <td>NaN</td>\n",
       "      <td>NaN</td>\n",
       "      <td>NaN</td>\n",
       "      <td>NaN</td>\n",
       "      <td>NaN</td>\n",
       "      <td>97.0</td>\n",
       "      <td>137.0</td>\n",
       "      <td>113.000000</td>\n",
       "      <td>F</td>\n",
       "      <td>1929-04-30</td>\n",
       "      <td>2008-09-12</td>\n",
       "      <td>EMERGENCY</td>\n",
       "      <td>Medicare</td>\n",
       "      <td>JEWISH</td>\n",
       "      <td>WIDOWED</td>\n",
       "      <td>WHITE</td>\n",
       "      <td>ABDOMINAL PAIN</td>\n",
       "      <td>56211</td>\n",
       "      <td>TSICU</td>\n",
       "      <td>5.8654</td>\n",
       "      <td>79.0</td>\n",
       "    </tr>\n",
       "    <tr>\n",
       "      <th>2</th>\n",
       "      <td>86233</td>\n",
       "      <td>184606</td>\n",
       "      <td>237514</td>\n",
       "      <td>62.0</td>\n",
       "      <td>100.0</td>\n",
       "      <td>82.862069</td>\n",
       "      <td>62.0</td>\n",
       "      <td>154.0</td>\n",
       "      <td>114.642857</td>\n",
       "      <td>34.0</td>\n",
       "      <td>113.0</td>\n",
       "      <td>56.964286</td>\n",
       "      <td>48.0</td>\n",
       "      <td>122.0</td>\n",
       "      <td>72.750000</td>\n",
       "      <td>11.0</td>\n",
       "      <td>26.0</td>\n",
       "      <td>18.878788</td>\n",
       "      <td>36.111111</td>\n",
       "      <td>37.722222</td>\n",
       "      <td>36.907407</td>\n",
       "      <td>87.0</td>\n",
       "      <td>100.0</td>\n",
       "      <td>96.931034</td>\n",
       "      <td>116.0</td>\n",
       "      <td>183.0</td>\n",
       "      <td>142.166667</td>\n",
       "      <td>F</td>\n",
       "      <td>1935-05-15</td>\n",
       "      <td>2009-05-21</td>\n",
       "      <td>ELECTIVE</td>\n",
       "      <td>Medicare</td>\n",
       "      <td>PROTESTANT QUAKER</td>\n",
       "      <td>MARRIED</td>\n",
       "      <td>WHITE</td>\n",
       "      <td>LEFT LUNG CANCER/SDA</td>\n",
       "      <td>1625</td>\n",
       "      <td>SICU</td>\n",
       "      <td>9.8213</td>\n",
       "      <td>74.0</td>\n",
       "    </tr>\n",
       "    <tr>\n",
       "      <th>3</th>\n",
       "      <td>53787</td>\n",
       "      <td>174772</td>\n",
       "      <td>244413</td>\n",
       "      <td>84.0</td>\n",
       "      <td>109.0</td>\n",
       "      <td>94.652174</td>\n",
       "      <td>81.0</td>\n",
       "      <td>163.0</td>\n",
       "      <td>121.727273</td>\n",
       "      <td>29.0</td>\n",
       "      <td>77.0</td>\n",
       "      <td>47.909091</td>\n",
       "      <td>49.0</td>\n",
       "      <td>87.0</td>\n",
       "      <td>65.727273</td>\n",
       "      <td>15.0</td>\n",
       "      <td>25.0</td>\n",
       "      <td>19.869565</td>\n",
       "      <td>35.611111</td>\n",
       "      <td>36.944444</td>\n",
       "      <td>36.203704</td>\n",
       "      <td>89.0</td>\n",
       "      <td>100.0</td>\n",
       "      <td>92.913043</td>\n",
       "      <td>233.0</td>\n",
       "      <td>484.0</td>\n",
       "      <td>361.000000</td>\n",
       "      <td>F</td>\n",
       "      <td>1937-01-14</td>\n",
       "      <td>2008-02-06</td>\n",
       "      <td>EMERGENCY</td>\n",
       "      <td>Medicare</td>\n",
       "      <td>CATHOLIC</td>\n",
       "      <td>DIVORCED</td>\n",
       "      <td>WHITE</td>\n",
       "      <td>ASTHMA;COPD EXACERBATION</td>\n",
       "      <td>49322</td>\n",
       "      <td>MICU</td>\n",
       "      <td>1.0230</td>\n",
       "      <td>71.0</td>\n",
       "    </tr>\n",
       "    <tr>\n",
       "      <th>4</th>\n",
       "      <td>99384</td>\n",
       "      <td>168087</td>\n",
       "      <td>298919</td>\n",
       "      <td>74.0</td>\n",
       "      <td>98.0</td>\n",
       "      <td>81.142857</td>\n",
       "      <td>84.0</td>\n",
       "      <td>140.0</td>\n",
       "      <td>113.875000</td>\n",
       "      <td>35.0</td>\n",
       "      <td>72.0</td>\n",
       "      <td>54.343750</td>\n",
       "      <td>31.0</td>\n",
       "      <td>81.0</td>\n",
       "      <td>66.806452</td>\n",
       "      <td>17.0</td>\n",
       "      <td>28.0</td>\n",
       "      <td>23.264706</td>\n",
       "      <td>35.888889</td>\n",
       "      <td>37.111111</td>\n",
       "      <td>36.652778</td>\n",
       "      <td>88.0</td>\n",
       "      <td>99.0</td>\n",
       "      <td>94.600000</td>\n",
       "      <td>85.0</td>\n",
       "      <td>161.0</td>\n",
       "      <td>112.000000</td>\n",
       "      <td>M</td>\n",
       "      <td>1924-08-05</td>\n",
       "      <td>2010-02-24</td>\n",
       "      <td>EMERGENCY</td>\n",
       "      <td>Medicare</td>\n",
       "      <td>BUDDHIST</td>\n",
       "      <td>WIDOWED</td>\n",
       "      <td>WHITE</td>\n",
       "      <td>PULMONARY EMBOLISM</td>\n",
       "      <td>41511</td>\n",
       "      <td>TSICU</td>\n",
       "      <td>1.3265</td>\n",
       "      <td>85.0</td>\n",
       "    </tr>\n",
       "    <tr>\n",
       "      <th>5</th>\n",
       "      <td>70776</td>\n",
       "      <td>183743</td>\n",
       "      <td>278855</td>\n",
       "      <td>94.0</td>\n",
       "      <td>109.0</td>\n",
       "      <td>101.722222</td>\n",
       "      <td>128.0</td>\n",
       "      <td>151.0</td>\n",
       "      <td>139.176471</td>\n",
       "      <td>60.0</td>\n",
       "      <td>82.0</td>\n",
       "      <td>72.705882</td>\n",
       "      <td>78.0</td>\n",
       "      <td>109.0</td>\n",
       "      <td>89.941176</td>\n",
       "      <td>11.0</td>\n",
       "      <td>27.0</td>\n",
       "      <td>22.333333</td>\n",
       "      <td>36.333333</td>\n",
       "      <td>36.555556</td>\n",
       "      <td>36.458333</td>\n",
       "      <td>92.0</td>\n",
       "      <td>97.0</td>\n",
       "      <td>94.166667</td>\n",
       "      <td>142.0</td>\n",
       "      <td>173.0</td>\n",
       "      <td>154.666667</td>\n",
       "      <td>F</td>\n",
       "      <td>1937-11-30</td>\n",
       "      <td>2010-04-21</td>\n",
       "      <td>EMERGENCY</td>\n",
       "      <td>Medicare</td>\n",
       "      <td>CATHOLIC</td>\n",
       "      <td>DIVORCED</td>\n",
       "      <td>WHITE</td>\n",
       "      <td>CORONARY ARTERY DISEASE;AORTIC STENOSIS</td>\n",
       "      <td>4241</td>\n",
       "      <td>CSRU</td>\n",
       "      <td>0.6561</td>\n",
       "      <td>72.0</td>\n",
       "    </tr>\n",
       "    <tr>\n",
       "      <th>6</th>\n",
       "      <td>68623</td>\n",
       "      <td>179098</td>\n",
       "      <td>207692</td>\n",
       "      <td>56.0</td>\n",
       "      <td>77.0</td>\n",
       "      <td>63.920000</td>\n",
       "      <td>83.0</td>\n",
       "      <td>148.0</td>\n",
       "      <td>115.440000</td>\n",
       "      <td>46.0</td>\n",
       "      <td>91.0</td>\n",
       "      <td>61.160000</td>\n",
       "      <td>59.0</td>\n",
       "      <td>98.0</td>\n",
       "      <td>75.769231</td>\n",
       "      <td>16.0</td>\n",
       "      <td>28.0</td>\n",
       "      <td>21.720000</td>\n",
       "      <td>35.722222</td>\n",
       "      <td>37.777778</td>\n",
       "      <td>36.638889</td>\n",
       "      <td>94.0</td>\n",
       "      <td>100.0</td>\n",
       "      <td>98.720000</td>\n",
       "      <td>137.0</td>\n",
       "      <td>164.0</td>\n",
       "      <td>150.500000</td>\n",
       "      <td>F</td>\n",
       "      <td>1918-08-09</td>\n",
       "      <td>2009-12-31</td>\n",
       "      <td>EMERGENCY</td>\n",
       "      <td>Medicare</td>\n",
       "      <td>NOT SPECIFIED</td>\n",
       "      <td>WIDOWED</td>\n",
       "      <td>WHITE</td>\n",
       "      <td>CHEST PAIN</td>\n",
       "      <td>41011</td>\n",
       "      <td>CCU</td>\n",
       "      <td>3.0524</td>\n",
       "      <td>91.0</td>\n",
       "    </tr>\n",
       "    <tr>\n",
       "      <th>7</th>\n",
       "      <td>94431</td>\n",
       "      <td>156573</td>\n",
       "      <td>277837</td>\n",
       "      <td>52.0</td>\n",
       "      <td>127.0</td>\n",
       "      <td>95.157895</td>\n",
       "      <td>92.0</td>\n",
       "      <td>144.0</td>\n",
       "      <td>118.714286</td>\n",
       "      <td>41.0</td>\n",
       "      <td>67.0</td>\n",
       "      <td>55.250000</td>\n",
       "      <td>59.0</td>\n",
       "      <td>97.0</td>\n",
       "      <td>74.423077</td>\n",
       "      <td>9.0</td>\n",
       "      <td>31.0</td>\n",
       "      <td>19.076923</td>\n",
       "      <td>35.500000</td>\n",
       "      <td>38.500000</td>\n",
       "      <td>36.898810</td>\n",
       "      <td>95.0</td>\n",
       "      <td>100.0</td>\n",
       "      <td>97.473684</td>\n",
       "      <td>78.0</td>\n",
       "      <td>185.0</td>\n",
       "      <td>135.636364</td>\n",
       "      <td>F</td>\n",
       "      <td>1933-03-28</td>\n",
       "      <td>2008-12-02</td>\n",
       "      <td>ELECTIVE</td>\n",
       "      <td>Medicare</td>\n",
       "      <td>CATHOLIC</td>\n",
       "      <td>MARRIED</td>\n",
       "      <td>WHITE</td>\n",
       "      <td>MITRAL VALVE DISORDER\\MITRAL VALVE REPLACEMENT</td>\n",
       "      <td>3941</td>\n",
       "      <td>CSRU</td>\n",
       "      <td>1.2737</td>\n",
       "      <td>75.0</td>\n",
       "    </tr>\n",
       "    <tr>\n",
       "      <th>8</th>\n",
       "      <td>76652</td>\n",
       "      <td>103471</td>\n",
       "      <td>231233</td>\n",
       "      <td>59.0</td>\n",
       "      <td>91.0</td>\n",
       "      <td>73.451613</td>\n",
       "      <td>105.0</td>\n",
       "      <td>149.0</td>\n",
       "      <td>120.925926</td>\n",
       "      <td>46.0</td>\n",
       "      <td>117.0</td>\n",
       "      <td>60.370370</td>\n",
       "      <td>60.0</td>\n",
       "      <td>124.0</td>\n",
       "      <td>74.481481</td>\n",
       "      <td>9.0</td>\n",
       "      <td>21.0</td>\n",
       "      <td>15.419355</td>\n",
       "      <td>36.833333</td>\n",
       "      <td>37.444444</td>\n",
       "      <td>37.063492</td>\n",
       "      <td>97.0</td>\n",
       "      <td>100.0</td>\n",
       "      <td>98.600000</td>\n",
       "      <td>97.0</td>\n",
       "      <td>125.0</td>\n",
       "      <td>107.750000</td>\n",
       "      <td>M</td>\n",
       "      <td>1983-10-11</td>\n",
       "      <td>2008-02-04</td>\n",
       "      <td>EMERGENCY</td>\n",
       "      <td>Medicaid</td>\n",
       "      <td>CATHOLIC</td>\n",
       "      <td>SINGLE</td>\n",
       "      <td>WHITE</td>\n",
       "      <td>FACIAL FRACTURES</td>\n",
       "      <td>85206</td>\n",
       "      <td>TSICU</td>\n",
       "      <td>1.2125</td>\n",
       "      <td>24.0</td>\n",
       "    </tr>\n",
       "    <tr>\n",
       "      <th>9</th>\n",
       "      <td>53782</td>\n",
       "      <td>190648</td>\n",
       "      <td>246339</td>\n",
       "      <td>72.0</td>\n",
       "      <td>100.0</td>\n",
       "      <td>88.555556</td>\n",
       "      <td>81.0</td>\n",
       "      <td>150.0</td>\n",
       "      <td>101.428571</td>\n",
       "      <td>47.0</td>\n",
       "      <td>69.0</td>\n",
       "      <td>53.936508</td>\n",
       "      <td>52.0</td>\n",
       "      <td>93.0</td>\n",
       "      <td>67.031746</td>\n",
       "      <td>10.0</td>\n",
       "      <td>36.0</td>\n",
       "      <td>16.602941</td>\n",
       "      <td>NaN</td>\n",
       "      <td>NaN</td>\n",
       "      <td>NaN</td>\n",
       "      <td>94.0</td>\n",
       "      <td>100.0</td>\n",
       "      <td>99.089286</td>\n",
       "      <td>62.0</td>\n",
       "      <td>164.0</td>\n",
       "      <td>112.700000</td>\n",
       "      <td>M</td>\n",
       "      <td>1927-01-27</td>\n",
       "      <td>2010-03-31</td>\n",
       "      <td>EMERGENCY</td>\n",
       "      <td>Medicare</td>\n",
       "      <td>CATHOLIC</td>\n",
       "      <td>SINGLE</td>\n",
       "      <td>WHITE</td>\n",
       "      <td>CORONARY ARTERY DISEASE</td>\n",
       "      <td>41401</td>\n",
       "      <td>CSRU</td>\n",
       "      <td>4.9430</td>\n",
       "      <td>83.0</td>\n",
       "    </tr>\n",
       "  </tbody>\n",
       "</table>\n",
       "</div>"
      ],
      "text/plain": [
       "   subject_id  hadm_id  icustay_id  HeartRate_Min  HeartRate_Max  \\\n",
       "0       55440   195768      228357           89.0          145.0   \n",
       "1       28424   127337      225281            NaN            NaN   \n",
       "2       86233   184606      237514           62.0          100.0   \n",
       "3       53787   174772      244413           84.0          109.0   \n",
       "4       99384   168087      298919           74.0           98.0   \n",
       "5       70776   183743      278855           94.0          109.0   \n",
       "6       68623   179098      207692           56.0           77.0   \n",
       "7       94431   156573      277837           52.0          127.0   \n",
       "8       76652   103471      231233           59.0           91.0   \n",
       "9       53782   190648      246339           72.0          100.0   \n",
       "\n",
       "   HeartRate_Mean  SysBP_Min  SysBP_Max  SysBP_Mean  DiasBP_Min  DiasBP_Max  \\\n",
       "0      121.043478       74.0      127.0  106.586957        42.0        90.0   \n",
       "1             NaN        NaN        NaN         NaN         NaN         NaN   \n",
       "2       82.862069       62.0      154.0  114.642857        34.0       113.0   \n",
       "3       94.652174       81.0      163.0  121.727273        29.0        77.0   \n",
       "4       81.142857       84.0      140.0  113.875000        35.0        72.0   \n",
       "5      101.722222      128.0      151.0  139.176471        60.0        82.0   \n",
       "6       63.920000       83.0      148.0  115.440000        46.0        91.0   \n",
       "7       95.157895       92.0      144.0  118.714286        41.0        67.0   \n",
       "8       73.451613      105.0      149.0  120.925926        46.0       117.0   \n",
       "9       88.555556       81.0      150.0  101.428571        47.0        69.0   \n",
       "\n",
       "   DiasBP_Mean  MeanBP_Min  MeanBP_Max  MeanBP_Mean  RespRate_Min  \\\n",
       "0    61.173913        59.0        94.0    74.543478          15.0   \n",
       "1          NaN         NaN         NaN          NaN           NaN   \n",
       "2    56.964286        48.0       122.0    72.750000          11.0   \n",
       "3    47.909091        49.0        87.0    65.727273          15.0   \n",
       "4    54.343750        31.0        81.0    66.806452          17.0   \n",
       "5    72.705882        78.0       109.0    89.941176          11.0   \n",
       "6    61.160000        59.0        98.0    75.769231          16.0   \n",
       "7    55.250000        59.0        97.0    74.423077           9.0   \n",
       "8    60.370370        60.0       124.0    74.481481           9.0   \n",
       "9    53.936508        52.0        93.0    67.031746          10.0   \n",
       "\n",
       "   RespRate_Max  RespRate_Mean  TempC_Min  TempC_Max  TempC_Mean  SpO2_Min  \\\n",
       "0          30.0      22.347826  35.111111  36.944444   36.080247      90.0   \n",
       "1           NaN            NaN        NaN        NaN         NaN       NaN   \n",
       "2          26.0      18.878788  36.111111  37.722222   36.907407      87.0   \n",
       "3          25.0      19.869565  35.611111  36.944444   36.203704      89.0   \n",
       "4          28.0      23.264706  35.888889  37.111111   36.652778      88.0   \n",
       "5          27.0      22.333333  36.333333  36.555556   36.458333      92.0   \n",
       "6          28.0      21.720000  35.722222  37.777778   36.638889      94.0   \n",
       "7          31.0      19.076923  35.500000  38.500000   36.898810      95.0   \n",
       "8          21.0      15.419355  36.833333  37.444444   37.063492      97.0   \n",
       "9          36.0      16.602941        NaN        NaN         NaN      94.0   \n",
       "\n",
       "   SpO2_Max  SpO2_Mean  Glucose_Min  Glucose_Max  Glucose_Mean GENDER  \\\n",
       "0      99.0  95.739130        111.0        230.0    160.777778      F   \n",
       "1       NaN        NaN         97.0        137.0    113.000000      F   \n",
       "2     100.0  96.931034        116.0        183.0    142.166667      F   \n",
       "3     100.0  92.913043        233.0        484.0    361.000000      F   \n",
       "4      99.0  94.600000         85.0        161.0    112.000000      M   \n",
       "5      97.0  94.166667        142.0        173.0    154.666667      F   \n",
       "6     100.0  98.720000        137.0        164.0    150.500000      F   \n",
       "7     100.0  97.473684         78.0        185.0    135.636364      F   \n",
       "8     100.0  98.600000         97.0        125.0    107.750000      M   \n",
       "9     100.0  99.089286         62.0        164.0    112.700000      M   \n",
       "\n",
       "          DOB   ADMITTIME ADMISSION_TYPE INSURANCE           RELIGION  \\\n",
       "0  1938-11-23  2008-06-15      EMERGENCY  Medicare  PROTESTANT QUAKER   \n",
       "1  1929-04-30  2008-09-12      EMERGENCY  Medicare             JEWISH   \n",
       "2  1935-05-15  2009-05-21       ELECTIVE  Medicare  PROTESTANT QUAKER   \n",
       "3  1937-01-14  2008-02-06      EMERGENCY  Medicare           CATHOLIC   \n",
       "4  1924-08-05  2010-02-24      EMERGENCY  Medicare           BUDDHIST   \n",
       "5  1937-11-30  2010-04-21      EMERGENCY  Medicare           CATHOLIC   \n",
       "6  1918-08-09  2009-12-31      EMERGENCY  Medicare      NOT SPECIFIED   \n",
       "7  1933-03-28  2008-12-02       ELECTIVE  Medicare           CATHOLIC   \n",
       "8  1983-10-11  2008-02-04      EMERGENCY  Medicaid           CATHOLIC   \n",
       "9  1927-01-27  2010-03-31      EMERGENCY  Medicare           CATHOLIC   \n",
       "\n",
       "  MARITAL_STATUS ETHNICITY                                       DIAGNOSIS  \\\n",
       "0         SINGLE     WHITE                          GASTROINTESTINAL BLEED   \n",
       "1        WIDOWED     WHITE                                  ABDOMINAL PAIN   \n",
       "2        MARRIED     WHITE                            LEFT LUNG CANCER/SDA   \n",
       "3       DIVORCED     WHITE                        ASTHMA;COPD EXACERBATION   \n",
       "4        WIDOWED     WHITE                              PULMONARY EMBOLISM   \n",
       "5       DIVORCED     WHITE         CORONARY ARTERY DISEASE;AORTIC STENOSIS   \n",
       "6        WIDOWED     WHITE                                      CHEST PAIN   \n",
       "7        MARRIED     WHITE  MITRAL VALVE DISORDER\\MITRAL VALVE REPLACEMENT   \n",
       "8         SINGLE     WHITE                                FACIAL FRACTURES   \n",
       "9         SINGLE     WHITE                         CORONARY ARTERY DISEASE   \n",
       "\n",
       "  ICD9_diagnosis FIRST_CAREUNIT     LOS   AGE  \n",
       "0           5789           MICU  4.5761  69.0  \n",
       "1          56211          TSICU  5.8654  79.0  \n",
       "2           1625           SICU  9.8213  74.0  \n",
       "3          49322           MICU  1.0230  71.0  \n",
       "4          41511          TSICU  1.3265  85.0  \n",
       "5           4241           CSRU  0.6561  72.0  \n",
       "6          41011            CCU  3.0524  91.0  \n",
       "7           3941           CSRU  1.2737  75.0  \n",
       "8          85206          TSICU  1.2125  24.0  \n",
       "9          41401           CSRU  4.9430  83.0  "
      ]
     },
     "execution_count": 4,
     "metadata": {},
     "output_type": "execute_result"
    }
   ],
   "source": [
    "data.head(10)"
   ]
  },
  {
   "cell_type": "code",
   "execution_count": 5,
   "metadata": {},
   "outputs": [
    {
     "data": {
      "text/plain": [
       "'data[\"NAN\"] = (1*data.isna()).sum(axis = 1)\\ntest[\"NAN\"] = (1*data.isna()).sum(axis = 1)'"
      ]
     },
     "execution_count": 5,
     "metadata": {},
     "output_type": "execute_result"
    }
   ],
   "source": [
    "\"\"\"data[\"NAN\"] = (1*data.isna()).sum(axis = 1)\n",
    "test[\"NAN\"] = (1*data.isna()).sum(axis = 1)\"\"\" #turns out that not having some data on some columns didnt have much predictive power - you can see sns plot later on (given you uncomment this and thingy later)"
   ]
  },
  {
   "cell_type": "code",
   "execution_count": 6,
   "metadata": {},
   "outputs": [
    {
     "name": "stdout",
     "output_type": "stream",
     "text": [
      "<class 'pandas.core.frame.DataFrame'>\n",
      "RangeIndex: 13840 entries, 0 to 13839\n",
      "Data columns (total 40 columns):\n",
      " #   Column          Non-Null Count  Dtype  \n",
      "---  ------          --------------  -----  \n",
      " 0   subject_id      13840 non-null  int64  \n",
      " 1   hadm_id         13840 non-null  int64  \n",
      " 2   icustay_id      13840 non-null  int64  \n",
      " 3   HeartRate_Min   11177 non-null  float64\n",
      " 4   HeartRate_Max   11177 non-null  float64\n",
      " 5   HeartRate_Mean  11177 non-null  float64\n",
      " 6   SysBP_Min       11164 non-null  float64\n",
      " 7   SysBP_Max       11164 non-null  float64\n",
      " 8   SysBP_Mean      11164 non-null  float64\n",
      " 9   DiasBP_Min      11164 non-null  float64\n",
      " 10  DiasBP_Max      11164 non-null  float64\n",
      " 11  DiasBP_Mean     11164 non-null  float64\n",
      " 12  MeanBP_Min      11177 non-null  float64\n",
      " 13  MeanBP_Max      11177 non-null  float64\n",
      " 14  MeanBP_Mean     11177 non-null  float64\n",
      " 15  RespRate_Min    11175 non-null  float64\n",
      " 16  RespRate_Max    11175 non-null  float64\n",
      " 17  RespRate_Mean   11175 non-null  float64\n",
      " 18  TempC_Min       10995 non-null  float64\n",
      " 19  TempC_Max       10995 non-null  float64\n",
      " 20  TempC_Mean      10995 non-null  float64\n",
      " 21  SpO2_Min        11167 non-null  float64\n",
      " 22  SpO2_Max        11167 non-null  float64\n",
      " 23  SpO2_Mean       11167 non-null  float64\n",
      " 24  Glucose_Min     13696 non-null  float64\n",
      " 25  Glucose_Max     13696 non-null  float64\n",
      " 26  Glucose_Mean    13696 non-null  float64\n",
      " 27  GENDER          13840 non-null  object \n",
      " 28  DOB             13840 non-null  object \n",
      " 29  ADMITTIME       13840 non-null  object \n",
      " 30  ADMISSION_TYPE  13840 non-null  object \n",
      " 31  INSURANCE       13840 non-null  object \n",
      " 32  RELIGION        13840 non-null  object \n",
      " 33  MARITAL_STATUS  13386 non-null  object \n",
      " 34  ETHNICITY       13840 non-null  object \n",
      " 35  DIAGNOSIS       13840 non-null  object \n",
      " 36  ICD9_diagnosis  13840 non-null  object \n",
      " 37  FIRST_CAREUNIT  13840 non-null  object \n",
      " 38  LOS             13840 non-null  float64\n",
      " 39  AGE             13840 non-null  float64\n",
      "dtypes: float64(26), int64(3), object(11)\n",
      "memory usage: 4.2+ MB\n"
     ]
    }
   ],
   "source": [
    "data.info()"
   ]
  },
  {
   "cell_type": "code",
   "execution_count": 7,
   "metadata": {},
   "outputs": [],
   "source": [
    "important_guess = [\"AGE\",\"GENDER\",\"ADMISSION_TYPE\",\"INSURANCE\", \"MARITAL_STATUS\", \"ETHNICITY\",\"Glucose_Max\",\"FIRST_CAREUNIT\",\"RELIGION\", \"TempC_Max\",'SpO2_Max', \"DiasBP_Max\", \"RespRate_Max\", \"SysBP_Max\", \"HeartRate_Max\", \"DIAGNOSIS\", \"ICD9_diagnosis\"]\n",
    "#max values are the values dangerous for health, I SUPPOSE"
   ]
  },
  {
   "cell_type": "code",
   "execution_count": 8,
   "metadata": {},
   "outputs": [],
   "source": [
    "train = data[important_guess]\n",
    "test = test[important_guess]"
   ]
  },
  {
   "cell_type": "code",
   "execution_count": 9,
   "metadata": {},
   "outputs": [
    {
     "data": {
      "text/plain": [
       "'sns.countplot(x = \"NAN\", hue = \"HOSPITAL_EXPIRE_FLAG\", data = data)'"
      ]
     },
     "execution_count": 9,
     "metadata": {},
     "output_type": "execute_result"
    }
   ],
   "source": [
    "\"\"\"sns.countplot(x = \"NAN\", hue = \"HOSPITAL_EXPIRE_FLAG\", data = data)\"\"\""
   ]
  },
  {
   "cell_type": "code",
   "execution_count": 10,
   "metadata": {},
   "outputs": [
    {
     "name": "stdout",
     "output_type": "stream",
     "text": [
      "<class 'pandas.core.frame.DataFrame'>\n",
      "RangeIndex: 13840 entries, 0 to 13839\n",
      "Data columns (total 17 columns):\n",
      " #   Column          Non-Null Count  Dtype  \n",
      "---  ------          --------------  -----  \n",
      " 0   AGE             13840 non-null  float64\n",
      " 1   GENDER          13840 non-null  object \n",
      " 2   ADMISSION_TYPE  13840 non-null  object \n",
      " 3   INSURANCE       13840 non-null  object \n",
      " 4   MARITAL_STATUS  13386 non-null  object \n",
      " 5   ETHNICITY       13840 non-null  object \n",
      " 6   Glucose_Max     13696 non-null  float64\n",
      " 7   FIRST_CAREUNIT  13840 non-null  object \n",
      " 8   RELIGION        13840 non-null  object \n",
      " 9   TempC_Max       10995 non-null  float64\n",
      " 10  SpO2_Max        11167 non-null  float64\n",
      " 11  DiasBP_Max      11164 non-null  float64\n",
      " 12  RespRate_Max    11175 non-null  float64\n",
      " 13  SysBP_Max       11164 non-null  float64\n",
      " 14  HeartRate_Max   11177 non-null  float64\n",
      " 15  DIAGNOSIS       13840 non-null  object \n",
      " 16  ICD9_diagnosis  13840 non-null  object \n",
      "dtypes: float64(8), object(9)\n",
      "memory usage: 1.8+ MB\n",
      "<class 'pandas.core.frame.DataFrame'>\n",
      "RangeIndex: 12065 entries, 0 to 12064\n",
      "Data columns (total 17 columns):\n",
      " #   Column          Non-Null Count  Dtype  \n",
      "---  ------          --------------  -----  \n",
      " 0   AGE             12065 non-null  float64\n",
      " 1   GENDER          12065 non-null  object \n",
      " 2   ADMISSION_TYPE  12065 non-null  object \n",
      " 3   INSURANCE       12065 non-null  object \n",
      " 4   MARITAL_STATUS  11628 non-null  object \n",
      " 5   ETHNICITY       12065 non-null  object \n",
      " 6   Glucose_Max     11898 non-null  float64\n",
      " 7   FIRST_CAREUNIT  12065 non-null  object \n",
      " 8   RELIGION        12065 non-null  object \n",
      " 9   TempC_Max       11821 non-null  float64\n",
      " 10  SpO2_Max        12022 non-null  float64\n",
      " 11  DiasBP_Max      12018 non-null  float64\n",
      " 12  RespRate_Max    12033 non-null  float64\n",
      " 13  SysBP_Max       12020 non-null  float64\n",
      " 14  HeartRate_Max   12034 non-null  float64\n",
      " 15  DIAGNOSIS       12065 non-null  object \n",
      " 16  ICD9_diagnosis  12065 non-null  object \n",
      "dtypes: float64(8), object(9)\n",
      "memory usage: 1.6+ MB\n"
     ]
    },
    {
     "data": {
      "text/plain": [
       "(None, None)"
      ]
     },
     "execution_count": 10,
     "metadata": {},
     "output_type": "execute_result"
    }
   ],
   "source": [
    "train.info(), test.info() #rerun later to chack if all nas are fixed"
   ]
  },
  {
   "cell_type": "code",
   "execution_count": 11,
   "metadata": {},
   "outputs": [
    {
     "data": {
      "text/plain": [
       "{'DIVORCED',\n",
       " 'LIFE PARTNER',\n",
       " 'MARRIED',\n",
       " 'SEPARATED',\n",
       " 'SINGLE',\n",
       " 'UNKNOWN (DEFAULT)',\n",
       " 'WIDOWED',\n",
       " nan}"
      ]
     },
     "execution_count": 11,
     "metadata": {},
     "output_type": "execute_result"
    }
   ],
   "source": [
    "set(train[\"MARITAL_STATUS\"])"
   ]
  },
  {
   "cell_type": "code",
   "execution_count": 12,
   "metadata": {},
   "outputs": [],
   "source": [
    "train[\"MARITAL_STATUS\"] = train[\"MARITAL_STATUS\"] .replace(np.nan, 'UNKNOWN (DEFAULT)', regex=True)\n",
    "test[\"MARITAL_STATUS\"] = test[\"MARITAL_STATUS\"] .replace(np.nan, 'UNKNOWN (DEFAULT)', regex=True)"
   ]
  },
  {
   "cell_type": "code",
   "execution_count": 13,
   "metadata": {},
   "outputs": [],
   "source": [
    "numerical = ['Glucose_Max','TempC_Max', 'DiasBP_Max', 'RespRate_Max', 'SysBP_Max', 'HeartRate_Max', 'SpO2_Max',  \"AGE\"]\n",
    "cat = list(set(train.columns) - set(train[numerical].columns))"
   ]
  },
  {
   "cell_type": "code",
   "execution_count": 14,
   "metadata": {},
   "outputs": [],
   "source": [
    "train[numerical] = train[numerical].apply(lambda x: x.fillna(x.median()),axis=0)\n",
    "test[numerical] = test[numerical].apply(lambda x: x.fillna(x.median()),axis=0)"
   ]
  },
  {
   "cell_type": "code",
   "execution_count": 15,
   "metadata": {},
   "outputs": [
    {
     "data": {
      "text/plain": [
       "['ADMISSION_TYPE',\n",
       " 'ICD9_diagnosis',\n",
       " 'GENDER',\n",
       " 'FIRST_CAREUNIT',\n",
       " 'DIAGNOSIS',\n",
       " 'ETHNICITY',\n",
       " 'MARITAL_STATUS',\n",
       " 'RELIGION',\n",
       " 'INSURANCE']"
      ]
     },
     "execution_count": 15,
     "metadata": {},
     "output_type": "execute_result"
    }
   ],
   "source": [
    "X = train.copy()\n",
    "y = data[\"LOS\"]\n",
    "cat = list(set(X.columns) - set(X[numerical].columns))\n",
    "cat"
   ]
  },
  {
   "cell_type": "code",
   "execution_count": 16,
   "metadata": {},
   "outputs": [
    {
     "data": {
      "text/plain": [
       "set()"
      ]
     },
     "execution_count": 16,
     "metadata": {},
     "output_type": "execute_result"
    }
   ],
   "source": [
    "set(X.columns) - set(test.columns)"
   ]
  },
  {
   "cell_type": "markdown",
   "metadata": {},
   "source": [
    "so i wanted to see how NN would deal with it. overall it seems it dealt better with the problem but in reality the encoding messed things up."
   ]
  },
  {
   "cell_type": "code",
   "execution_count": 4,
   "metadata": {},
   "outputs": [],
   "source": [
    "import tensorflow as tf\n",
    "physical_devices = tf.config.list_physical_devices('GPU') \n",
    "tf.config.experimental.set_memory_growth(physical_devices[0], True)\n",
    "from tensorflow import keras\n",
    "from keras import regularizers\n",
    "from keras.metrics import MeanAbsoluteError\n",
    "from keras.layers import Dense, Activation, Dropout\n",
    "from keras.models import Sequential\n",
    "from keras.wrappers.scikit_learn import KerasRegressor\n",
    "from sklearn.model_selection import cross_val_score, KFold, GridSearchCV\n",
    "from sklearn.preprocessing import StandardScaler, RobustScaler, Normalizer\n",
    "from sklearn.pipeline import Pipeline\n",
    "from category_encoders import TargetEncoder\n",
    "from sklearn.model_selection import  train_test_split"
   ]
  },
  {
   "cell_type": "code",
   "execution_count": 18,
   "metadata": {},
   "outputs": [],
   "source": [
    "Z = X.copy()"
   ]
  },
  {
   "cell_type": "code",
   "execution_count": 19,
   "metadata": {},
   "outputs": [],
   "source": [
    "enc = TargetEncoder()\n",
    "Z[cat] = enc.fit_transform(X[cat], data[\"LOS\"]) \n",
    "test[cat] = enc.transform(test[cat]) "
   ]
  },
  {
   "cell_type": "code",
   "execution_count": 20,
   "metadata": {},
   "outputs": [
    {
     "data": {
      "text/html": [
       "<div>\n",
       "<style scoped>\n",
       "    .dataframe tbody tr th:only-of-type {\n",
       "        vertical-align: middle;\n",
       "    }\n",
       "\n",
       "    .dataframe tbody tr th {\n",
       "        vertical-align: top;\n",
       "    }\n",
       "\n",
       "    .dataframe thead th {\n",
       "        text-align: right;\n",
       "    }\n",
       "</style>\n",
       "<table border=\"1\" class=\"dataframe\">\n",
       "  <thead>\n",
       "    <tr style=\"text-align: right;\">\n",
       "      <th></th>\n",
       "      <th>AGE</th>\n",
       "      <th>GENDER</th>\n",
       "      <th>ADMISSION_TYPE</th>\n",
       "      <th>INSURANCE</th>\n",
       "      <th>MARITAL_STATUS</th>\n",
       "      <th>ETHNICITY</th>\n",
       "      <th>Glucose_Max</th>\n",
       "      <th>FIRST_CAREUNIT</th>\n",
       "      <th>RELIGION</th>\n",
       "      <th>TempC_Max</th>\n",
       "      <th>SpO2_Max</th>\n",
       "      <th>DiasBP_Max</th>\n",
       "      <th>RespRate_Max</th>\n",
       "      <th>SysBP_Max</th>\n",
       "      <th>HeartRate_Max</th>\n",
       "      <th>DIAGNOSIS</th>\n",
       "      <th>ICD9_diagnosis</th>\n",
       "    </tr>\n",
       "  </thead>\n",
       "  <tbody>\n",
       "    <tr>\n",
       "      <th>0</th>\n",
       "      <td>42.0</td>\n",
       "      <td>3.289668</td>\n",
       "      <td>3.422007</td>\n",
       "      <td>3.248860</td>\n",
       "      <td>3.345529</td>\n",
       "      <td>3.341394</td>\n",
       "      <td>103.0</td>\n",
       "      <td>3.175337</td>\n",
       "      <td>3.668717</td>\n",
       "      <td>36.611111</td>\n",
       "      <td>100.0</td>\n",
       "      <td>74.0</td>\n",
       "      <td>21.0</td>\n",
       "      <td>121.0</td>\n",
       "      <td>110.0</td>\n",
       "      <td>3.330470</td>\n",
       "      <td>3.330470</td>\n",
       "    </tr>\n",
       "    <tr>\n",
       "      <th>1</th>\n",
       "      <td>68.0</td>\n",
       "      <td>3.289668</td>\n",
       "      <td>3.422007</td>\n",
       "      <td>3.401610</td>\n",
       "      <td>3.905187</td>\n",
       "      <td>3.059834</td>\n",
       "      <td>346.0</td>\n",
       "      <td>3.175337</td>\n",
       "      <td>3.326334</td>\n",
       "      <td>36.888889</td>\n",
       "      <td>100.0</td>\n",
       "      <td>67.0</td>\n",
       "      <td>21.0</td>\n",
       "      <td>138.0</td>\n",
       "      <td>98.0</td>\n",
       "      <td>2.677487</td>\n",
       "      <td>6.971879</td>\n",
       "    </tr>\n",
       "    <tr>\n",
       "      <th>2</th>\n",
       "      <td>74.0</td>\n",
       "      <td>3.289668</td>\n",
       "      <td>2.733247</td>\n",
       "      <td>3.401610</td>\n",
       "      <td>3.275579</td>\n",
       "      <td>3.341394</td>\n",
       "      <td>139.0</td>\n",
       "      <td>3.709519</td>\n",
       "      <td>3.175227</td>\n",
       "      <td>39.500000</td>\n",
       "      <td>100.0</td>\n",
       "      <td>89.0</td>\n",
       "      <td>35.0</td>\n",
       "      <td>135.0</td>\n",
       "      <td>128.0</td>\n",
       "      <td>5.768645</td>\n",
       "      <td>4.762681</td>\n",
       "    </tr>\n",
       "    <tr>\n",
       "      <th>3</th>\n",
       "      <td>49.0</td>\n",
       "      <td>3.362139</td>\n",
       "      <td>3.422007</td>\n",
       "      <td>3.248860</td>\n",
       "      <td>3.250744</td>\n",
       "      <td>3.341394</td>\n",
       "      <td>142.0</td>\n",
       "      <td>3.175337</td>\n",
       "      <td>3.454709</td>\n",
       "      <td>36.944444</td>\n",
       "      <td>100.0</td>\n",
       "      <td>88.0</td>\n",
       "      <td>23.0</td>\n",
       "      <td>155.0</td>\n",
       "      <td>130.0</td>\n",
       "      <td>3.330470</td>\n",
       "      <td>1.735041</td>\n",
       "    </tr>\n",
       "    <tr>\n",
       "      <th>4</th>\n",
       "      <td>68.0</td>\n",
       "      <td>3.362139</td>\n",
       "      <td>3.422007</td>\n",
       "      <td>3.401610</td>\n",
       "      <td>3.345529</td>\n",
       "      <td>3.341394</td>\n",
       "      <td>204.0</td>\n",
       "      <td>3.563529</td>\n",
       "      <td>3.358457</td>\n",
       "      <td>38.333333</td>\n",
       "      <td>100.0</td>\n",
       "      <td>72.0</td>\n",
       "      <td>24.0</td>\n",
       "      <td>148.0</td>\n",
       "      <td>116.0</td>\n",
       "      <td>3.240731</td>\n",
       "      <td>3.330470</td>\n",
       "    </tr>\n",
       "    <tr>\n",
       "      <th>...</th>\n",
       "      <td>...</td>\n",
       "      <td>...</td>\n",
       "      <td>...</td>\n",
       "      <td>...</td>\n",
       "      <td>...</td>\n",
       "      <td>...</td>\n",
       "      <td>...</td>\n",
       "      <td>...</td>\n",
       "      <td>...</td>\n",
       "      <td>...</td>\n",
       "      <td>...</td>\n",
       "      <td>...</td>\n",
       "      <td>...</td>\n",
       "      <td>...</td>\n",
       "      <td>...</td>\n",
       "      <td>...</td>\n",
       "      <td>...</td>\n",
       "    </tr>\n",
       "    <tr>\n",
       "      <th>12060</th>\n",
       "      <td>82.0</td>\n",
       "      <td>3.289668</td>\n",
       "      <td>3.422007</td>\n",
       "      <td>3.401610</td>\n",
       "      <td>3.345529</td>\n",
       "      <td>3.341394</td>\n",
       "      <td>337.0</td>\n",
       "      <td>3.351365</td>\n",
       "      <td>3.668717</td>\n",
       "      <td>38.333333</td>\n",
       "      <td>100.0</td>\n",
       "      <td>75.0</td>\n",
       "      <td>20.0</td>\n",
       "      <td>144.0</td>\n",
       "      <td>111.0</td>\n",
       "      <td>3.330470</td>\n",
       "      <td>5.907542</td>\n",
       "    </tr>\n",
       "    <tr>\n",
       "      <th>12061</th>\n",
       "      <td>51.0</td>\n",
       "      <td>3.362139</td>\n",
       "      <td>3.422007</td>\n",
       "      <td>3.248860</td>\n",
       "      <td>3.807401</td>\n",
       "      <td>3.341394</td>\n",
       "      <td>356.0</td>\n",
       "      <td>3.175337</td>\n",
       "      <td>3.454709</td>\n",
       "      <td>40.388889</td>\n",
       "      <td>99.0</td>\n",
       "      <td>93.0</td>\n",
       "      <td>41.0</td>\n",
       "      <td>193.0</td>\n",
       "      <td>133.0</td>\n",
       "      <td>3.330470</td>\n",
       "      <td>6.745924</td>\n",
       "    </tr>\n",
       "    <tr>\n",
       "      <th>12062</th>\n",
       "      <td>36.0</td>\n",
       "      <td>3.362139</td>\n",
       "      <td>3.422007</td>\n",
       "      <td>3.085055</td>\n",
       "      <td>3.250744</td>\n",
       "      <td>2.055717</td>\n",
       "      <td>631.0</td>\n",
       "      <td>3.175337</td>\n",
       "      <td>3.454709</td>\n",
       "      <td>37.000000</td>\n",
       "      <td>98.0</td>\n",
       "      <td>113.0</td>\n",
       "      <td>36.0</td>\n",
       "      <td>195.0</td>\n",
       "      <td>116.0</td>\n",
       "      <td>2.372947</td>\n",
       "      <td>2.110124</td>\n",
       "    </tr>\n",
       "    <tr>\n",
       "      <th>12063</th>\n",
       "      <td>35.0</td>\n",
       "      <td>3.362139</td>\n",
       "      <td>3.422007</td>\n",
       "      <td>3.248860</td>\n",
       "      <td>3.250744</td>\n",
       "      <td>2.055717</td>\n",
       "      <td>170.0</td>\n",
       "      <td>3.175337</td>\n",
       "      <td>3.454709</td>\n",
       "      <td>36.888889</td>\n",
       "      <td>98.0</td>\n",
       "      <td>117.0</td>\n",
       "      <td>18.0</td>\n",
       "      <td>188.0</td>\n",
       "      <td>97.0</td>\n",
       "      <td>2.372947</td>\n",
       "      <td>1.794735</td>\n",
       "    </tr>\n",
       "    <tr>\n",
       "      <th>12064</th>\n",
       "      <td>58.0</td>\n",
       "      <td>3.362139</td>\n",
       "      <td>3.422007</td>\n",
       "      <td>3.248860</td>\n",
       "      <td>3.345529</td>\n",
       "      <td>3.341394</td>\n",
       "      <td>123.0</td>\n",
       "      <td>3.563529</td>\n",
       "      <td>3.326334</td>\n",
       "      <td>37.444444</td>\n",
       "      <td>100.0</td>\n",
       "      <td>90.0</td>\n",
       "      <td>25.0</td>\n",
       "      <td>162.0</td>\n",
       "      <td>97.0</td>\n",
       "      <td>4.015230</td>\n",
       "      <td>6.259746</td>\n",
       "    </tr>\n",
       "  </tbody>\n",
       "</table>\n",
       "<p>12065 rows × 17 columns</p>\n",
       "</div>"
      ],
      "text/plain": [
       "        AGE    GENDER  ADMISSION_TYPE  INSURANCE  MARITAL_STATUS  ETHNICITY  \\\n",
       "0      42.0  3.289668        3.422007   3.248860        3.345529   3.341394   \n",
       "1      68.0  3.289668        3.422007   3.401610        3.905187   3.059834   \n",
       "2      74.0  3.289668        2.733247   3.401610        3.275579   3.341394   \n",
       "3      49.0  3.362139        3.422007   3.248860        3.250744   3.341394   \n",
       "4      68.0  3.362139        3.422007   3.401610        3.345529   3.341394   \n",
       "...     ...       ...             ...        ...             ...        ...   \n",
       "12060  82.0  3.289668        3.422007   3.401610        3.345529   3.341394   \n",
       "12061  51.0  3.362139        3.422007   3.248860        3.807401   3.341394   \n",
       "12062  36.0  3.362139        3.422007   3.085055        3.250744   2.055717   \n",
       "12063  35.0  3.362139        3.422007   3.248860        3.250744   2.055717   \n",
       "12064  58.0  3.362139        3.422007   3.248860        3.345529   3.341394   \n",
       "\n",
       "       Glucose_Max  FIRST_CAREUNIT  RELIGION  TempC_Max  SpO2_Max  DiasBP_Max  \\\n",
       "0            103.0        3.175337  3.668717  36.611111     100.0        74.0   \n",
       "1            346.0        3.175337  3.326334  36.888889     100.0        67.0   \n",
       "2            139.0        3.709519  3.175227  39.500000     100.0        89.0   \n",
       "3            142.0        3.175337  3.454709  36.944444     100.0        88.0   \n",
       "4            204.0        3.563529  3.358457  38.333333     100.0        72.0   \n",
       "...            ...             ...       ...        ...       ...         ...   \n",
       "12060        337.0        3.351365  3.668717  38.333333     100.0        75.0   \n",
       "12061        356.0        3.175337  3.454709  40.388889      99.0        93.0   \n",
       "12062        631.0        3.175337  3.454709  37.000000      98.0       113.0   \n",
       "12063        170.0        3.175337  3.454709  36.888889      98.0       117.0   \n",
       "12064        123.0        3.563529  3.326334  37.444444     100.0        90.0   \n",
       "\n",
       "       RespRate_Max  SysBP_Max  HeartRate_Max  DIAGNOSIS  ICD9_diagnosis  \n",
       "0              21.0      121.0          110.0   3.330470        3.330470  \n",
       "1              21.0      138.0           98.0   2.677487        6.971879  \n",
       "2              35.0      135.0          128.0   5.768645        4.762681  \n",
       "3              23.0      155.0          130.0   3.330470        1.735041  \n",
       "4              24.0      148.0          116.0   3.240731        3.330470  \n",
       "...             ...        ...            ...        ...             ...  \n",
       "12060          20.0      144.0          111.0   3.330470        5.907542  \n",
       "12061          41.0      193.0          133.0   3.330470        6.745924  \n",
       "12062          36.0      195.0          116.0   2.372947        2.110124  \n",
       "12063          18.0      188.0           97.0   2.372947        1.794735  \n",
       "12064          25.0      162.0           97.0   4.015230        6.259746  \n",
       "\n",
       "[12065 rows x 17 columns]"
      ]
     },
     "execution_count": 20,
     "metadata": {},
     "output_type": "execute_result"
    }
   ],
   "source": [
    "test"
   ]
  },
  {
   "cell_type": "code",
   "execution_count": 21,
   "metadata": {},
   "outputs": [],
   "source": [
    "sc = RobustScaler()\n",
    "Z = sc.fit_transform(Z) \n",
    "test = sc.transform(test) \n"
   ]
  },
  {
   "cell_type": "code",
   "execution_count": 22,
   "metadata": {},
   "outputs": [],
   "source": [
    "X_train, X_test, y_train, y_test = train_test_split(X, y, test_size=0.33, random_state=2137)"
   ]
  },
  {
   "cell_type": "code",
   "execution_count": 23,
   "metadata": {},
   "outputs": [],
   "source": [
    "Z = X_train.copy()"
   ]
  },
  {
   "cell_type": "code",
   "execution_count": 24,
   "metadata": {},
   "outputs": [
    {
     "data": {
      "text/plain": [
       "'X_test[cat] = enc.transform(X_test[cat]) \\nX_test =sc.transform(X_test)\\nX_train[cat] = enc.transform(X_train[cat])\\nX_train = sc.transform(X_train)'"
      ]
     },
     "execution_count": 24,
     "metadata": {},
     "output_type": "execute_result"
    }
   ],
   "source": [
    "\"\"\"X_test[cat] = enc.transform(X_test[cat]) \n",
    "X_test =sc.transform(X_test)\n",
    "X_train[cat] = enc.transform(X_train[cat])\n",
    "X_train = sc.transform(X_train)\"\"\""
   ]
  },
  {
   "cell_type": "code",
   "execution_count": 25,
   "metadata": {},
   "outputs": [],
   "source": [
    "sc = RobustScaler()\n",
    "enc = TargetEncoder()\n",
    "X_train[cat] = enc.fit_transform(X_train[cat], y_train) \n",
    "\n",
    "X_test[cat] = enc.transform(X_test[cat])\n",
    "\n",
    "X_train =sc.fit_transform(X_train)\n",
    "X_test = sc.transform(X_test)\n"
   ]
  },
  {
   "cell_type": "code",
   "execution_count": 38,
   "metadata": {},
   "outputs": [],
   "source": [
    "#i have tried few different architectures aswell but there was no much gain that would justify iteraring to find hyperparameters of deeper networks\n",
    "def reg( optimizer=\"adam\", dropout=0.1, init='uniform'):\n",
    "    model = Sequential()  \n",
    "    model.add(Dense(53, input_dim=53,kernel_initializer=init,  activation='relu'))\n",
    "    model.add(Dropout(dropout))\n",
    "    model.add(Dense(53, kernel_initializer=init,activation='relu'))\n",
    "    model.add(Dropout(dropout))\n",
    "    model.add(Dense(53, kernel_initializer=init, activation='relu'))\n",
    "    model.add(Dense(1))\n",
    "    model.compile(loss='mean_absolute_error', optimizer=optimizer, metrics = [\"mae\"])\n",
    "    return model"
   ]
  },
  {
   "cell_type": "code",
   "execution_count": 39,
   "metadata": {},
   "outputs": [
    {
     "name": "stdout",
     "output_type": "stream",
     "text": [
      "Model: \"sequential_14\"\n",
      "_________________________________________________________________\n",
      "Layer (type)                 Output Shape              Param #   \n",
      "=================================================================\n",
      "dense_56 (Dense)             (None, 53)                2862      \n",
      "_________________________________________________________________\n",
      "dropout_28 (Dropout)         (None, 53)                0         \n",
      "_________________________________________________________________\n",
      "dense_57 (Dense)             (None, 53)                2862      \n",
      "_________________________________________________________________\n",
      "dropout_29 (Dropout)         (None, 53)                0         \n",
      "_________________________________________________________________\n",
      "dense_58 (Dense)             (None, 53)                2862      \n",
      "_________________________________________________________________\n",
      "dense_59 (Dense)             (None, 1)                 54        \n",
      "=================================================================\n",
      "Total params: 8,640\n",
      "Trainable params: 8,640\n",
      "Non-trainable params: 0\n",
      "_________________________________________________________________\n"
     ]
    }
   ],
   "source": [
    "reg().summary()"
   ]
  },
  {
   "cell_type": "code",
   "execution_count": 46,
   "metadata": {},
   "outputs": [
    {
     "name": "stdout",
     "output_type": "stream",
     "text": [
      "Epoch 1/10\n",
      "346/346 [==============================] - 2s 4ms/step - loss: 2.3191 - mae: 2.3191 - val_loss: 1.8041 - val_mae: 1.8041\n",
      "Epoch 2/10\n",
      "346/346 [==============================] - 1s 4ms/step - loss: 1.8945 - mae: 1.8945 - val_loss: 1.7849 - val_mae: 1.7849\n",
      "Epoch 3/10\n",
      "346/346 [==============================] - 1s 3ms/step - loss: 1.8178 - mae: 1.8178 - val_loss: 1.7768 - val_mae: 1.7768\n",
      "Epoch 4/10\n",
      "346/346 [==============================] - 1s 4ms/step - loss: 1.8723 - mae: 1.8723 - val_loss: 1.7890 - val_mae: 1.7890\n",
      "Epoch 5/10\n",
      "346/346 [==============================] - 1s 3ms/step - loss: 1.8290 - mae: 1.8290 - val_loss: 1.7824 - val_mae: 1.7824\n",
      "Epoch 6/10\n",
      "346/346 [==============================] - 1s 4ms/step - loss: 1.8295 - mae: 1.8295 - val_loss: 1.8016 - val_mae: 1.8016\n",
      "Epoch 7/10\n",
      "346/346 [==============================] - 1s 4ms/step - loss: 1.8017 - mae: 1.8017 - val_loss: 1.7497 - val_mae: 1.7497\n",
      "Epoch 8/10\n",
      "346/346 [==============================] - 1s 3ms/step - loss: 1.8284 - mae: 1.8284 - val_loss: 1.8803 - val_mae: 1.8803\n",
      "Epoch 9/10\n",
      "346/346 [==============================] - 1s 4ms/step - loss: 1.8491 - mae: 1.8491 - val_loss: 1.7530 - val_mae: 1.7530\n",
      "Epoch 10/10\n",
      "346/346 [==============================] - 1s 4ms/step - loss: 1.8216 - mae: 1.8216 - val_loss: 1.7532 - val_mae: 1.7532\n"
     ]
    },
    {
     "data": {
      "text/plain": [
       "<tensorflow.python.keras.callbacks.History at 0x218e80134f0>"
      ]
     },
     "execution_count": 46,
     "metadata": {},
     "output_type": "execute_result"
    }
   ],
   "source": [
    "model = reg()\n",
    "model.fit(X_train, y_train, epochs = 10, validation_data = (X_test, y_test))"
   ]
  },
  {
   "cell_type": "code",
   "execution_count": 14,
   "metadata": {},
   "outputs": [],
   "source": [
    "from sklearn.metrics import mean_absolute_error"
   ]
  },
  {
   "cell_type": "code",
   "execution_count": 43,
   "metadata": {},
   "outputs": [
    {
     "data": {
      "text/plain": [
       "array([[ 0.        ,  0.        ,  0.0069616 , ...,  0.        ,\n",
       "         0.        ,  0.        ],\n",
       "       [ 0.        ,  0.        ,  0.0069616 , ...,  0.        ,\n",
       "         1.        ,  0.        ],\n",
       "       [ 0.26315789,  2.33333333,  0.75943261, ...,  1.        ,\n",
       "         0.        ,  0.        ],\n",
       "       ...,\n",
       "       [ 1.68421053,  1.88888889,  2.03153666, ...,  1.        ,\n",
       "         0.        ,  0.        ],\n",
       "       [-0.73684211, -0.81481481, -0.93016825, ...,  1.        ,\n",
       "         0.        ,  0.        ],\n",
       "       [ 0.68421053, -0.22222222,  0.42400555, ...,  1.        ,\n",
       "         0.        ,  0.        ]])"
      ]
     },
     "execution_count": 43,
     "metadata": {},
     "output_type": "execute_result"
    }
   ],
   "source": [
    "X_test"
   ]
  },
  {
   "cell_type": "code",
   "execution_count": 47,
   "metadata": {},
   "outputs": [
    {
     "data": {
      "text/plain": [
       "1.7532260580745782"
      ]
     },
     "execution_count": 47,
     "metadata": {},
     "output_type": "execute_result"
    }
   ],
   "source": [
    "\n",
    "mean_absolute_error(y_test, model.predict(X_test))"
   ]
  },
  {
   "cell_type": "code",
   "execution_count": 63,
   "metadata": {},
   "outputs": [
    {
     "data": {
      "text/plain": [
       "(694.70135, 0.0666527, 2.4314938, 41.800484)"
      ]
     },
     "execution_count": 63,
     "metadata": {},
     "output_type": "execute_result"
    }
   ],
   "source": [
    "pred =model.predict(test)\n",
    "np.max(pred), np.min(pred), np.mean(pred), np.var(pred)"
   ]
  },
  {
   "cell_type": "code",
   "execution_count": 64,
   "metadata": {},
   "outputs": [
    {
     "data": {
      "text/html": [
       "<div>\n",
       "<style scoped>\n",
       "    .dataframe tbody tr th:only-of-type {\n",
       "        vertical-align: middle;\n",
       "    }\n",
       "\n",
       "    .dataframe tbody tr th {\n",
       "        vertical-align: top;\n",
       "    }\n",
       "\n",
       "    .dataframe thead th {\n",
       "        text-align: right;\n",
       "    }\n",
       "</style>\n",
       "<table border=\"1\" class=\"dataframe\">\n",
       "  <thead>\n",
       "    <tr style=\"text-align: right;\">\n",
       "      <th></th>\n",
       "      <th>icustay_id</th>\n",
       "      <th>LOS</th>\n",
       "    </tr>\n",
       "  </thead>\n",
       "  <tbody>\n",
       "    <tr>\n",
       "      <th>0</th>\n",
       "      <td>221004</td>\n",
       "      <td>3.860512</td>\n",
       "    </tr>\n",
       "    <tr>\n",
       "      <th>1</th>\n",
       "      <td>296315</td>\n",
       "      <td>2.098957</td>\n",
       "    </tr>\n",
       "    <tr>\n",
       "      <th>2</th>\n",
       "      <td>245557</td>\n",
       "      <td>1.839853</td>\n",
       "    </tr>\n",
       "    <tr>\n",
       "      <th>3</th>\n",
       "      <td>287519</td>\n",
       "      <td>1.342118</td>\n",
       "    </tr>\n",
       "    <tr>\n",
       "      <th>4</th>\n",
       "      <td>231164</td>\n",
       "      <td>1.346149</td>\n",
       "    </tr>\n",
       "  </tbody>\n",
       "</table>\n",
       "</div>"
      ],
      "text/plain": [
       "   icustay_id       LOS\n",
       "0      221004  3.860512\n",
       "1      296315  2.098957\n",
       "2      245557  1.839853\n",
       "3      287519  1.342118\n",
       "4      231164  1.346149"
      ]
     },
     "execution_count": 64,
     "metadata": {},
     "output_type": "execute_result"
    }
   ],
   "source": [
    "my_submission = submission\n",
    "my_submission[\"LOS\"] =  pred\n",
    "my_submission.head()"
   ]
  },
  {
   "cell_type": "code",
   "execution_count": 65,
   "metadata": {},
   "outputs": [
    {
     "data": {
      "text/html": [
       "<div>\n",
       "<style scoped>\n",
       "    .dataframe tbody tr th:only-of-type {\n",
       "        vertical-align: middle;\n",
       "    }\n",
       "\n",
       "    .dataframe tbody tr th {\n",
       "        vertical-align: top;\n",
       "    }\n",
       "\n",
       "    .dataframe thead th {\n",
       "        text-align: right;\n",
       "    }\n",
       "</style>\n",
       "<table border=\"1\" class=\"dataframe\">\n",
       "  <thead>\n",
       "    <tr style=\"text-align: right;\">\n",
       "      <th></th>\n",
       "      <th>icustay_id</th>\n",
       "      <th>LOS</th>\n",
       "    </tr>\n",
       "  </thead>\n",
       "  <tbody>\n",
       "    <tr>\n",
       "      <th>116</th>\n",
       "      <td>249332</td>\n",
       "      <td>694.701355</td>\n",
       "    </tr>\n",
       "  </tbody>\n",
       "</table>\n",
       "</div>"
      ],
      "text/plain": [
       "     icustay_id         LOS\n",
       "116      249332  694.701355"
      ]
     },
     "execution_count": 65,
     "metadata": {},
     "output_type": "execute_result"
    }
   ],
   "source": [
    "my_submission.query(\"LOS > 20\")"
   ]
  },
  {
   "cell_type": "code",
   "execution_count": 80,
   "metadata": {},
   "outputs": [
    {
     "data": {
      "text/html": [
       "<div>\n",
       "<style scoped>\n",
       "    .dataframe tbody tr th:only-of-type {\n",
       "        vertical-align: middle;\n",
       "    }\n",
       "\n",
       "    .dataframe tbody tr th {\n",
       "        vertical-align: top;\n",
       "    }\n",
       "\n",
       "    .dataframe thead th {\n",
       "        text-align: right;\n",
       "    }\n",
       "</style>\n",
       "<table border=\"1\" class=\"dataframe\">\n",
       "  <thead>\n",
       "    <tr style=\"text-align: right;\">\n",
       "      <th></th>\n",
       "      <th>HeartRate_Min</th>\n",
       "      <th>HeartRate_Max</th>\n",
       "      <th>HeartRate_Mean</th>\n",
       "      <th>SysBP_Min</th>\n",
       "      <th>SysBP_Max</th>\n",
       "      <th>SysBP_Mean</th>\n",
       "      <th>DiasBP_Min</th>\n",
       "      <th>DiasBP_Max</th>\n",
       "      <th>DiasBP_Mean</th>\n",
       "      <th>MeanBP_Min</th>\n",
       "      <th>MeanBP_Max</th>\n",
       "      <th>MeanBP_Mean</th>\n",
       "      <th>RespRate_Min</th>\n",
       "      <th>RespRate_Max</th>\n",
       "      <th>RespRate_Mean</th>\n",
       "      <th>TempC_Min</th>\n",
       "      <th>TempC_Max</th>\n",
       "      <th>TempC_Mean</th>\n",
       "      <th>SpO2_Min</th>\n",
       "      <th>SpO2_Max</th>\n",
       "      <th>SpO2_Mean</th>\n",
       "      <th>Glucose_Min</th>\n",
       "      <th>Glucose_Max</th>\n",
       "      <th>Glucose_Mean</th>\n",
       "      <th>GENDER</th>\n",
       "      <th>DIAGNOSIS</th>\n",
       "      <th>ICD9_diagnosis</th>\n",
       "      <th>num_stays</th>\n",
       "      <th>num_dis</th>\n",
       "      <th>dis</th>\n",
       "      <th>nthstay</th>\n",
       "      <th>AGE</th>\n",
       "      <th>NAN</th>\n",
       "      <th>ADMISSION_TYPE_ELECTIVE</th>\n",
       "      <th>ADMISSION_TYPE_EMERGENCY</th>\n",
       "      <th>ADMISSION_TYPE_URGENT</th>\n",
       "      <th>INSURANCE_Government</th>\n",
       "      <th>INSURANCE_Medicaid</th>\n",
       "      <th>INSURANCE_Medicare</th>\n",
       "      <th>INSURANCE_Private</th>\n",
       "      <th>INSURANCE_Self Pay</th>\n",
       "      <th>MARITAL_STATUS_DIVORCED</th>\n",
       "      <th>MARITAL_STATUS_LIFE PARTNER</th>\n",
       "      <th>MARITAL_STATUS_MARRIED</th>\n",
       "      <th>MARITAL_STATUS_SEPARATED</th>\n",
       "      <th>MARITAL_STATUS_SINGLE</th>\n",
       "      <th>MARITAL_STATUS_UNKNOWN (DEFAULT)</th>\n",
       "      <th>MARITAL_STATUS_WIDOWED</th>\n",
       "      <th>FIRST_CAREUNIT_CCU</th>\n",
       "      <th>FIRST_CAREUNIT_CSRU</th>\n",
       "      <th>FIRST_CAREUNIT_MICU</th>\n",
       "      <th>FIRST_CAREUNIT_SICU</th>\n",
       "      <th>FIRST_CAREUNIT_TSICU</th>\n",
       "    </tr>\n",
       "  </thead>\n",
       "  <tbody>\n",
       "    <tr>\n",
       "      <th>count</th>\n",
       "      <td>12065.000000</td>\n",
       "      <td>12065.000000</td>\n",
       "      <td>12065.000000</td>\n",
       "      <td>12065.000000</td>\n",
       "      <td>12065.000000</td>\n",
       "      <td>12065.000000</td>\n",
       "      <td>12065.000000</td>\n",
       "      <td>12065.000000</td>\n",
       "      <td>12065.000000</td>\n",
       "      <td>12065.000000</td>\n",
       "      <td>12065.000000</td>\n",
       "      <td>12065.000000</td>\n",
       "      <td>12065.000000</td>\n",
       "      <td>12065.000000</td>\n",
       "      <td>12065.000000</td>\n",
       "      <td>12065.000000</td>\n",
       "      <td>12065.000000</td>\n",
       "      <td>12065.000000</td>\n",
       "      <td>12065.000000</td>\n",
       "      <td>12065.000000</td>\n",
       "      <td>12065.000000</td>\n",
       "      <td>12065.000000</td>\n",
       "      <td>12065.000000</td>\n",
       "      <td>12065.000000</td>\n",
       "      <td>12065.000000</td>\n",
       "      <td>12065.000000</td>\n",
       "      <td>12065.000000</td>\n",
       "      <td>12065.000000</td>\n",
       "      <td>12065.000000</td>\n",
       "      <td>12065.000000</td>\n",
       "      <td>12065.000000</td>\n",
       "      <td>12065.000000</td>\n",
       "      <td>12065.000000</td>\n",
       "      <td>12065.000000</td>\n",
       "      <td>12065.000000</td>\n",
       "      <td>12065.000000</td>\n",
       "      <td>12065.00000</td>\n",
       "      <td>12065.000000</td>\n",
       "      <td>12065.000000</td>\n",
       "      <td>12065.000000</td>\n",
       "      <td>12065.000000</td>\n",
       "      <td>12065.000000</td>\n",
       "      <td>12065.000000</td>\n",
       "      <td>12065.000000</td>\n",
       "      <td>12065.000000</td>\n",
       "      <td>12065.000000</td>\n",
       "      <td>12065.000000</td>\n",
       "      <td>12065.000000</td>\n",
       "      <td>12065.000000</td>\n",
       "      <td>12065.000000</td>\n",
       "      <td>12065.000000</td>\n",
       "      <td>12065.000000</td>\n",
       "      <td>12065.000000</td>\n",
       "    </tr>\n",
       "    <tr>\n",
       "      <th>mean</th>\n",
       "      <td>0.037246</td>\n",
       "      <td>0.082614</td>\n",
       "      <td>0.049726</td>\n",
       "      <td>-0.013347</td>\n",
       "      <td>0.083895</td>\n",
       "      <td>0.088361</td>\n",
       "      <td>0.006703</td>\n",
       "      <td>0.096690</td>\n",
       "      <td>0.043669</td>\n",
       "      <td>-0.068701</td>\n",
       "      <td>0.197593</td>\n",
       "      <td>0.063880</td>\n",
       "      <td>-0.018545</td>\n",
       "      <td>0.099441</td>\n",
       "      <td>0.139680</td>\n",
       "      <td>-0.064882</td>\n",
       "      <td>0.097278</td>\n",
       "      <td>0.027472</td>\n",
       "      <td>-0.244923</td>\n",
       "      <td>-0.426937</td>\n",
       "      <td>-0.090300</td>\n",
       "      <td>0.118116</td>\n",
       "      <td>1.404042</td>\n",
       "      <td>0.496402</td>\n",
       "      <td>0.561376</td>\n",
       "      <td>-0.038408</td>\n",
       "      <td>0.074461</td>\n",
       "      <td>0.955077</td>\n",
       "      <td>0.250780</td>\n",
       "      <td>0.045090</td>\n",
       "      <td>0.595027</td>\n",
       "      <td>-0.034288</td>\n",
       "      <td>0.195607</td>\n",
       "      <td>0.134521</td>\n",
       "      <td>0.854455</td>\n",
       "      <td>0.011024</td>\n",
       "      <td>0.02901</td>\n",
       "      <td>0.100705</td>\n",
       "      <td>0.562785</td>\n",
       "      <td>0.298550</td>\n",
       "      <td>0.008952</td>\n",
       "      <td>0.066059</td>\n",
       "      <td>0.000414</td>\n",
       "      <td>0.467717</td>\n",
       "      <td>0.011521</td>\n",
       "      <td>0.281061</td>\n",
       "      <td>0.041194</td>\n",
       "      <td>0.132035</td>\n",
       "      <td>0.124575</td>\n",
       "      <td>0.148860</td>\n",
       "      <td>0.417157</td>\n",
       "      <td>0.188562</td>\n",
       "      <td>0.120845</td>\n",
       "    </tr>\n",
       "    <tr>\n",
       "      <th>std</th>\n",
       "      <td>0.782361</td>\n",
       "      <td>0.780558</td>\n",
       "      <td>0.733602</td>\n",
       "      <td>0.820708</td>\n",
       "      <td>0.758094</td>\n",
       "      <td>0.734934</td>\n",
       "      <td>0.784567</td>\n",
       "      <td>0.833065</td>\n",
       "      <td>0.774347</td>\n",
       "      <td>0.949215</td>\n",
       "      <td>1.095357</td>\n",
       "      <td>0.766111</td>\n",
       "      <td>0.883105</td>\n",
       "      <td>0.776583</td>\n",
       "      <td>0.789473</td>\n",
       "      <td>0.873208</td>\n",
       "      <td>0.831203</td>\n",
       "      <td>0.839679</td>\n",
       "      <td>1.819051</td>\n",
       "      <td>1.121064</td>\n",
       "      <td>0.883565</td>\n",
       "      <td>0.954008</td>\n",
       "      <td>116.709220</td>\n",
       "      <td>26.315960</td>\n",
       "      <td>0.496239</td>\n",
       "      <td>1.395376</td>\n",
       "      <td>0.761172</td>\n",
       "      <td>2.165440</td>\n",
       "      <td>0.826230</td>\n",
       "      <td>0.748276</td>\n",
       "      <td>1.405197</td>\n",
       "      <td>0.685961</td>\n",
       "      <td>1.233726</td>\n",
       "      <td>0.341226</td>\n",
       "      <td>0.352664</td>\n",
       "      <td>0.104417</td>\n",
       "      <td>0.16784</td>\n",
       "      <td>0.300950</td>\n",
       "      <td>0.496063</td>\n",
       "      <td>0.457641</td>\n",
       "      <td>0.094192</td>\n",
       "      <td>0.248395</td>\n",
       "      <td>0.020354</td>\n",
       "      <td>0.498977</td>\n",
       "      <td>0.106720</td>\n",
       "      <td>0.449536</td>\n",
       "      <td>0.198746</td>\n",
       "      <td>0.338543</td>\n",
       "      <td>0.330250</td>\n",
       "      <td>0.355966</td>\n",
       "      <td>0.493110</td>\n",
       "      <td>0.391176</td>\n",
       "      <td>0.325961</td>\n",
       "    </tr>\n",
       "    <tr>\n",
       "      <th>min</th>\n",
       "      <td>-3.578947</td>\n",
       "      <td>-2.259259</td>\n",
       "      <td>-2.344117</td>\n",
       "      <td>-4.095238</td>\n",
       "      <td>-3.290323</td>\n",
       "      <td>-3.184350</td>\n",
       "      <td>-2.666667</td>\n",
       "      <td>-2.565217</td>\n",
       "      <td>-3.184275</td>\n",
       "      <td>-3.744667</td>\n",
       "      <td>-2.920000</td>\n",
       "      <td>-3.331358</td>\n",
       "      <td>-2.750000</td>\n",
       "      <td>-1.875000</td>\n",
       "      <td>-1.869095</td>\n",
       "      <td>-25.333333</td>\n",
       "      <td>-6.917647</td>\n",
       "      <td>-8.621053</td>\n",
       "      <td>-22.750000</td>\n",
       "      <td>-33.000000</td>\n",
       "      <td>-16.220571</td>\n",
       "      <td>-2.857143</td>\n",
       "      <td>-1.371795</td>\n",
       "      <td>-1.779661</td>\n",
       "      <td>0.000000</td>\n",
       "      <td>-4.306218</td>\n",
       "      <td>-1.536750</td>\n",
       "      <td>0.000000</td>\n",
       "      <td>-1.333333</td>\n",
       "      <td>-2.885742</td>\n",
       "      <td>0.000000</td>\n",
       "      <td>-2.000000</td>\n",
       "      <td>0.000000</td>\n",
       "      <td>0.000000</td>\n",
       "      <td>0.000000</td>\n",
       "      <td>0.000000</td>\n",
       "      <td>0.00000</td>\n",
       "      <td>0.000000</td>\n",
       "      <td>0.000000</td>\n",
       "      <td>0.000000</td>\n",
       "      <td>0.000000</td>\n",
       "      <td>0.000000</td>\n",
       "      <td>0.000000</td>\n",
       "      <td>0.000000</td>\n",
       "      <td>0.000000</td>\n",
       "      <td>0.000000</td>\n",
       "      <td>0.000000</td>\n",
       "      <td>0.000000</td>\n",
       "      <td>0.000000</td>\n",
       "      <td>0.000000</td>\n",
       "      <td>0.000000</td>\n",
       "      <td>0.000000</td>\n",
       "      <td>0.000000</td>\n",
       "    </tr>\n",
       "    <tr>\n",
       "      <th>25%</th>\n",
       "      <td>-0.473684</td>\n",
       "      <td>-0.481481</td>\n",
       "      <td>-0.480596</td>\n",
       "      <td>-0.523810</td>\n",
       "      <td>-0.419355</td>\n",
       "      <td>-0.442004</td>\n",
       "      <td>-0.466667</td>\n",
       "      <td>-0.478261</td>\n",
       "      <td>-0.492476</td>\n",
       "      <td>-0.533333</td>\n",
       "      <td>-0.440000</td>\n",
       "      <td>-0.459604</td>\n",
       "      <td>-0.500000</td>\n",
       "      <td>-0.375000</td>\n",
       "      <td>-0.413440</td>\n",
       "      <td>-0.533333</td>\n",
       "      <td>-0.411765</td>\n",
       "      <td>-0.458726</td>\n",
       "      <td>-0.500000</td>\n",
       "      <td>0.000000</td>\n",
       "      <td>-0.494802</td>\n",
       "      <td>-0.428571</td>\n",
       "      <td>-0.384615</td>\n",
       "      <td>-0.377504</td>\n",
       "      <td>0.000000</td>\n",
       "      <td>-0.504654</td>\n",
       "      <td>-0.524269</td>\n",
       "      <td>0.000000</td>\n",
       "      <td>-0.333333</td>\n",
       "      <td>-0.433960</td>\n",
       "      <td>0.000000</td>\n",
       "      <td>-0.480000</td>\n",
       "      <td>0.000000</td>\n",
       "      <td>0.000000</td>\n",
       "      <td>1.000000</td>\n",
       "      <td>0.000000</td>\n",
       "      <td>0.00000</td>\n",
       "      <td>0.000000</td>\n",
       "      <td>0.000000</td>\n",
       "      <td>0.000000</td>\n",
       "      <td>0.000000</td>\n",
       "      <td>0.000000</td>\n",
       "      <td>0.000000</td>\n",
       "      <td>0.000000</td>\n",
       "      <td>0.000000</td>\n",
       "      <td>0.000000</td>\n",
       "      <td>0.000000</td>\n",
       "      <td>0.000000</td>\n",
       "      <td>0.000000</td>\n",
       "      <td>0.000000</td>\n",
       "      <td>0.000000</td>\n",
       "      <td>0.000000</td>\n",
       "      <td>0.000000</td>\n",
       "    </tr>\n",
       "    <tr>\n",
       "      <th>50%</th>\n",
       "      <td>0.000000</td>\n",
       "      <td>0.000000</td>\n",
       "      <td>-0.004783</td>\n",
       "      <td>-0.047619</td>\n",
       "      <td>0.000000</td>\n",
       "      <td>-0.001610</td>\n",
       "      <td>0.000000</td>\n",
       "      <td>0.000000</td>\n",
       "      <td>-0.038978</td>\n",
       "      <td>0.000000</td>\n",
       "      <td>0.000000</td>\n",
       "      <td>-0.018376</td>\n",
       "      <td>0.000000</td>\n",
       "      <td>0.000000</td>\n",
       "      <td>0.014899</td>\n",
       "      <td>0.000000</td>\n",
       "      <td>0.000000</td>\n",
       "      <td>-0.002632</td>\n",
       "      <td>0.000000</td>\n",
       "      <td>0.000000</td>\n",
       "      <td>0.012234</td>\n",
       "      <td>-0.028571</td>\n",
       "      <td>0.051282</td>\n",
       "      <td>0.026965</td>\n",
       "      <td>1.000000</td>\n",
       "      <td>0.000000</td>\n",
       "      <td>0.024951</td>\n",
       "      <td>0.000000</td>\n",
       "      <td>0.111111</td>\n",
       "      <td>0.080929</td>\n",
       "      <td>0.000000</td>\n",
       "      <td>0.040000</td>\n",
       "      <td>0.000000</td>\n",
       "      <td>0.000000</td>\n",
       "      <td>1.000000</td>\n",
       "      <td>0.000000</td>\n",
       "      <td>0.00000</td>\n",
       "      <td>0.000000</td>\n",
       "      <td>1.000000</td>\n",
       "      <td>0.000000</td>\n",
       "      <td>0.000000</td>\n",
       "      <td>0.000000</td>\n",
       "      <td>0.000000</td>\n",
       "      <td>0.000000</td>\n",
       "      <td>0.000000</td>\n",
       "      <td>0.000000</td>\n",
       "      <td>0.000000</td>\n",
       "      <td>0.000000</td>\n",
       "      <td>0.000000</td>\n",
       "      <td>0.000000</td>\n",
       "      <td>0.000000</td>\n",
       "      <td>0.000000</td>\n",
       "      <td>0.000000</td>\n",
       "    </tr>\n",
       "    <tr>\n",
       "      <th>75%</th>\n",
       "      <td>0.526316</td>\n",
       "      <td>0.555556</td>\n",
       "      <td>0.528414</td>\n",
       "      <td>0.476190</td>\n",
       "      <td>0.516129</td>\n",
       "      <td>0.547391</td>\n",
       "      <td>0.466667</td>\n",
       "      <td>0.521739</td>\n",
       "      <td>0.502085</td>\n",
       "      <td>0.466667</td>\n",
       "      <td>0.520000</td>\n",
       "      <td>0.505659</td>\n",
       "      <td>0.500000</td>\n",
       "      <td>0.500000</td>\n",
       "      <td>0.574656</td>\n",
       "      <td>0.466667</td>\n",
       "      <td>0.529412</td>\n",
       "      <td>0.492982</td>\n",
       "      <td>0.500000</td>\n",
       "      <td>0.000000</td>\n",
       "      <td>0.473053</td>\n",
       "      <td>0.514286</td>\n",
       "      <td>0.628205</td>\n",
       "      <td>0.608320</td>\n",
       "      <td>1.000000</td>\n",
       "      <td>0.313765</td>\n",
       "      <td>0.420105</td>\n",
       "      <td>1.000000</td>\n",
       "      <td>0.777778</td>\n",
       "      <td>0.569175</td>\n",
       "      <td>1.000000</td>\n",
       "      <td>0.520000</td>\n",
       "      <td>0.000000</td>\n",
       "      <td>0.000000</td>\n",
       "      <td>1.000000</td>\n",
       "      <td>0.000000</td>\n",
       "      <td>0.00000</td>\n",
       "      <td>0.000000</td>\n",
       "      <td>1.000000</td>\n",
       "      <td>1.000000</td>\n",
       "      <td>0.000000</td>\n",
       "      <td>0.000000</td>\n",
       "      <td>0.000000</td>\n",
       "      <td>1.000000</td>\n",
       "      <td>0.000000</td>\n",
       "      <td>1.000000</td>\n",
       "      <td>0.000000</td>\n",
       "      <td>0.000000</td>\n",
       "      <td>0.000000</td>\n",
       "      <td>0.000000</td>\n",
       "      <td>1.000000</td>\n",
       "      <td>0.000000</td>\n",
       "      <td>0.000000</td>\n",
       "    </tr>\n",
       "    <tr>\n",
       "      <th>max</th>\n",
       "      <td>3.578947</td>\n",
       "      <td>6.555556</td>\n",
       "      <td>3.136721</td>\n",
       "      <td>3.666667</td>\n",
       "      <td>5.645161</td>\n",
       "      <td>3.827037</td>\n",
       "      <td>3.933333</td>\n",
       "      <td>6.782609</td>\n",
       "      <td>4.270926</td>\n",
       "      <td>3.600000</td>\n",
       "      <td>7.880000</td>\n",
       "      <td>4.232550</td>\n",
       "      <td>4.000000</td>\n",
       "      <td>5.250000</td>\n",
       "      <td>4.582297</td>\n",
       "      <td>3.706667</td>\n",
       "      <td>4.235294</td>\n",
       "      <td>4.721053</td>\n",
       "      <td>2.000000</td>\n",
       "      <td>0.000000</td>\n",
       "      <td>1.125540</td>\n",
       "      <td>10.228571</td>\n",
       "      <td>12818.474359</td>\n",
       "      <td>2888.646957</td>\n",
       "      <td>1.000000</td>\n",
       "      <td>9.676337</td>\n",
       "      <td>3.162479</td>\n",
       "      <td>33.000000</td>\n",
       "      <td>2.888889</td>\n",
       "      <td>2.773816</td>\n",
       "      <td>17.000000</td>\n",
       "      <td>1.440000</td>\n",
       "      <td>22.000000</td>\n",
       "      <td>1.000000</td>\n",
       "      <td>1.000000</td>\n",
       "      <td>1.000000</td>\n",
       "      <td>1.00000</td>\n",
       "      <td>1.000000</td>\n",
       "      <td>1.000000</td>\n",
       "      <td>1.000000</td>\n",
       "      <td>1.000000</td>\n",
       "      <td>1.000000</td>\n",
       "      <td>1.000000</td>\n",
       "      <td>1.000000</td>\n",
       "      <td>1.000000</td>\n",
       "      <td>1.000000</td>\n",
       "      <td>1.000000</td>\n",
       "      <td>1.000000</td>\n",
       "      <td>1.000000</td>\n",
       "      <td>1.000000</td>\n",
       "      <td>1.000000</td>\n",
       "      <td>1.000000</td>\n",
       "      <td>1.000000</td>\n",
       "    </tr>\n",
       "  </tbody>\n",
       "</table>\n",
       "</div>"
      ],
      "text/plain": [
       "       HeartRate_Min  HeartRate_Max  HeartRate_Mean     SysBP_Min  \\\n",
       "count   12065.000000   12065.000000    12065.000000  12065.000000   \n",
       "mean        0.037246       0.082614        0.049726     -0.013347   \n",
       "std         0.782361       0.780558        0.733602      0.820708   \n",
       "min        -3.578947      -2.259259       -2.344117     -4.095238   \n",
       "25%        -0.473684      -0.481481       -0.480596     -0.523810   \n",
       "50%         0.000000       0.000000       -0.004783     -0.047619   \n",
       "75%         0.526316       0.555556        0.528414      0.476190   \n",
       "max         3.578947       6.555556        3.136721      3.666667   \n",
       "\n",
       "          SysBP_Max    SysBP_Mean    DiasBP_Min    DiasBP_Max   DiasBP_Mean  \\\n",
       "count  12065.000000  12065.000000  12065.000000  12065.000000  12065.000000   \n",
       "mean       0.083895      0.088361      0.006703      0.096690      0.043669   \n",
       "std        0.758094      0.734934      0.784567      0.833065      0.774347   \n",
       "min       -3.290323     -3.184350     -2.666667     -2.565217     -3.184275   \n",
       "25%       -0.419355     -0.442004     -0.466667     -0.478261     -0.492476   \n",
       "50%        0.000000     -0.001610      0.000000      0.000000     -0.038978   \n",
       "75%        0.516129      0.547391      0.466667      0.521739      0.502085   \n",
       "max        5.645161      3.827037      3.933333      6.782609      4.270926   \n",
       "\n",
       "         MeanBP_Min    MeanBP_Max   MeanBP_Mean  RespRate_Min  RespRate_Max  \\\n",
       "count  12065.000000  12065.000000  12065.000000  12065.000000  12065.000000   \n",
       "mean      -0.068701      0.197593      0.063880     -0.018545      0.099441   \n",
       "std        0.949215      1.095357      0.766111      0.883105      0.776583   \n",
       "min       -3.744667     -2.920000     -3.331358     -2.750000     -1.875000   \n",
       "25%       -0.533333     -0.440000     -0.459604     -0.500000     -0.375000   \n",
       "50%        0.000000      0.000000     -0.018376      0.000000      0.000000   \n",
       "75%        0.466667      0.520000      0.505659      0.500000      0.500000   \n",
       "max        3.600000      7.880000      4.232550      4.000000      5.250000   \n",
       "\n",
       "       RespRate_Mean     TempC_Min     TempC_Max    TempC_Mean      SpO2_Min  \\\n",
       "count   12065.000000  12065.000000  12065.000000  12065.000000  12065.000000   \n",
       "mean        0.139680     -0.064882      0.097278      0.027472     -0.244923   \n",
       "std         0.789473      0.873208      0.831203      0.839679      1.819051   \n",
       "min        -1.869095    -25.333333     -6.917647     -8.621053    -22.750000   \n",
       "25%        -0.413440     -0.533333     -0.411765     -0.458726     -0.500000   \n",
       "50%         0.014899      0.000000      0.000000     -0.002632      0.000000   \n",
       "75%         0.574656      0.466667      0.529412      0.492982      0.500000   \n",
       "max         4.582297      3.706667      4.235294      4.721053      2.000000   \n",
       "\n",
       "           SpO2_Max     SpO2_Mean   Glucose_Min   Glucose_Max  Glucose_Mean  \\\n",
       "count  12065.000000  12065.000000  12065.000000  12065.000000  12065.000000   \n",
       "mean      -0.426937     -0.090300      0.118116      1.404042      0.496402   \n",
       "std        1.121064      0.883565      0.954008    116.709220     26.315960   \n",
       "min      -33.000000    -16.220571     -2.857143     -1.371795     -1.779661   \n",
       "25%        0.000000     -0.494802     -0.428571     -0.384615     -0.377504   \n",
       "50%        0.000000      0.012234     -0.028571      0.051282      0.026965   \n",
       "75%        0.000000      0.473053      0.514286      0.628205      0.608320   \n",
       "max        0.000000      1.125540     10.228571  12818.474359   2888.646957   \n",
       "\n",
       "             GENDER     DIAGNOSIS  ICD9_diagnosis     num_stays       num_dis  \\\n",
       "count  12065.000000  12065.000000    12065.000000  12065.000000  12065.000000   \n",
       "mean       0.561376     -0.038408        0.074461      0.955077      0.250780   \n",
       "std        0.496239      1.395376        0.761172      2.165440      0.826230   \n",
       "min        0.000000     -4.306218       -1.536750      0.000000     -1.333333   \n",
       "25%        0.000000     -0.504654       -0.524269      0.000000     -0.333333   \n",
       "50%        1.000000      0.000000        0.024951      0.000000      0.111111   \n",
       "75%        1.000000      0.313765        0.420105      1.000000      0.777778   \n",
       "max        1.000000      9.676337        3.162479     33.000000      2.888889   \n",
       "\n",
       "                dis       nthstay           AGE           NAN  \\\n",
       "count  12065.000000  12065.000000  12065.000000  12065.000000   \n",
       "mean       0.045090      0.595027     -0.034288      0.195607   \n",
       "std        0.748276      1.405197      0.685961      1.233726   \n",
       "min       -2.885742      0.000000     -2.000000      0.000000   \n",
       "25%       -0.433960      0.000000     -0.480000      0.000000   \n",
       "50%        0.080929      0.000000      0.040000      0.000000   \n",
       "75%        0.569175      1.000000      0.520000      0.000000   \n",
       "max        2.773816     17.000000      1.440000     22.000000   \n",
       "\n",
       "       ADMISSION_TYPE_ELECTIVE  ADMISSION_TYPE_EMERGENCY  \\\n",
       "count             12065.000000              12065.000000   \n",
       "mean                  0.134521                  0.854455   \n",
       "std                   0.341226                  0.352664   \n",
       "min                   0.000000                  0.000000   \n",
       "25%                   0.000000                  1.000000   \n",
       "50%                   0.000000                  1.000000   \n",
       "75%                   0.000000                  1.000000   \n",
       "max                   1.000000                  1.000000   \n",
       "\n",
       "       ADMISSION_TYPE_URGENT  INSURANCE_Government  INSURANCE_Medicaid  \\\n",
       "count           12065.000000           12065.00000        12065.000000   \n",
       "mean                0.011024               0.02901            0.100705   \n",
       "std                 0.104417               0.16784            0.300950   \n",
       "min                 0.000000               0.00000            0.000000   \n",
       "25%                 0.000000               0.00000            0.000000   \n",
       "50%                 0.000000               0.00000            0.000000   \n",
       "75%                 0.000000               0.00000            0.000000   \n",
       "max                 1.000000               1.00000            1.000000   \n",
       "\n",
       "       INSURANCE_Medicare  INSURANCE_Private  INSURANCE_Self Pay  \\\n",
       "count        12065.000000       12065.000000        12065.000000   \n",
       "mean             0.562785           0.298550            0.008952   \n",
       "std              0.496063           0.457641            0.094192   \n",
       "min              0.000000           0.000000            0.000000   \n",
       "25%              0.000000           0.000000            0.000000   \n",
       "50%              1.000000           0.000000            0.000000   \n",
       "75%              1.000000           1.000000            0.000000   \n",
       "max              1.000000           1.000000            1.000000   \n",
       "\n",
       "       MARITAL_STATUS_DIVORCED  MARITAL_STATUS_LIFE PARTNER  \\\n",
       "count             12065.000000                 12065.000000   \n",
       "mean                  0.066059                     0.000414   \n",
       "std                   0.248395                     0.020354   \n",
       "min                   0.000000                     0.000000   \n",
       "25%                   0.000000                     0.000000   \n",
       "50%                   0.000000                     0.000000   \n",
       "75%                   0.000000                     0.000000   \n",
       "max                   1.000000                     1.000000   \n",
       "\n",
       "       MARITAL_STATUS_MARRIED  MARITAL_STATUS_SEPARATED  \\\n",
       "count            12065.000000              12065.000000   \n",
       "mean                 0.467717                  0.011521   \n",
       "std                  0.498977                  0.106720   \n",
       "min                  0.000000                  0.000000   \n",
       "25%                  0.000000                  0.000000   \n",
       "50%                  0.000000                  0.000000   \n",
       "75%                  1.000000                  0.000000   \n",
       "max                  1.000000                  1.000000   \n",
       "\n",
       "       MARITAL_STATUS_SINGLE  MARITAL_STATUS_UNKNOWN (DEFAULT)  \\\n",
       "count           12065.000000                      12065.000000   \n",
       "mean                0.281061                          0.041194   \n",
       "std                 0.449536                          0.198746   \n",
       "min                 0.000000                          0.000000   \n",
       "25%                 0.000000                          0.000000   \n",
       "50%                 0.000000                          0.000000   \n",
       "75%                 1.000000                          0.000000   \n",
       "max                 1.000000                          1.000000   \n",
       "\n",
       "       MARITAL_STATUS_WIDOWED  FIRST_CAREUNIT_CCU  FIRST_CAREUNIT_CSRU  \\\n",
       "count            12065.000000        12065.000000         12065.000000   \n",
       "mean                 0.132035            0.124575             0.148860   \n",
       "std                  0.338543            0.330250             0.355966   \n",
       "min                  0.000000            0.000000             0.000000   \n",
       "25%                  0.000000            0.000000             0.000000   \n",
       "50%                  0.000000            0.000000             0.000000   \n",
       "75%                  0.000000            0.000000             0.000000   \n",
       "max                  1.000000            1.000000             1.000000   \n",
       "\n",
       "       FIRST_CAREUNIT_MICU  FIRST_CAREUNIT_SICU  FIRST_CAREUNIT_TSICU  \n",
       "count         12065.000000         12065.000000          12065.000000  \n",
       "mean              0.417157             0.188562              0.120845  \n",
       "std               0.493110             0.391176              0.325961  \n",
       "min               0.000000             0.000000              0.000000  \n",
       "25%               0.000000             0.000000              0.000000  \n",
       "50%               0.000000             0.000000              0.000000  \n",
       "75%               1.000000             0.000000              0.000000  \n",
       "max               1.000000             1.000000              1.000000  "
      ]
     },
     "execution_count": 80,
     "metadata": {},
     "output_type": "execute_result"
    }
   ],
   "source": [
    "test.describe()"
   ]
  },
  {
   "cell_type": "code",
   "execution_count": 58,
   "metadata": {},
   "outputs": [],
   "source": [
    "#pred[pred>20] = 20\n",
    "#pred = np.array([x if x <20 else 2 for x in pred])"
   ]
  },
  {
   "cell_type": "code",
   "execution_count": null,
   "metadata": {},
   "outputs": [],
   "source": []
  },
  {
   "cell_type": "code",
   "execution_count": 60,
   "metadata": {},
   "outputs": [
    {
     "data": {
      "text/plain": [
       "array([[3.8605115],\n",
       "       [2.0989566],\n",
       "       [1.8398529],\n",
       "       ...,\n",
       "       [2.9506993],\n",
       "       [1.4549326],\n",
       "       [1.3160126]], dtype=float32)"
      ]
     },
     "execution_count": 60,
     "metadata": {},
     "output_type": "execute_result"
    }
   ],
   "source": [
    "pred"
   ]
  },
  {
   "cell_type": "code",
   "execution_count": 61,
   "metadata": {},
   "outputs": [
    {
     "data": {
      "text/plain": [
       "(0.0, 5.0)"
      ]
     },
     "execution_count": 61,
     "metadata": {},
     "output_type": "execute_result"
    },
    {
     "data": {
      "image/png": "[encoded data removed]",
      "text/plain": [
       "<Figure size 1200x800 with 1 Axes>"
      ]
     },
     "metadata": {
      "needs_background": "light"
     },
     "output_type": "display_data"
    }
   ],
   "source": [
    "_=plt.hist(pred, bins = 1000)\n",
    "plt.xlim(0,5)"
   ]
  },
  {
   "cell_type": "code",
   "execution_count": 62,
   "metadata": {},
   "outputs": [],
   "source": [
    "def submit(model,X, name):\n",
    "    my_submission = submission\n",
    "    my_submission[\"LOS\"] =  pred\n",
    "    my_submission = my_submission.sort_values('icustay_id')\n",
    "    my_submission.to_csv(name, index=False)\n",
    "submit(pred, test, \"regression_no_knn.csv\")"
   ]
  },
  {
   "cell_type": "code",
   "execution_count": 35,
   "metadata": {},
   "outputs": [
    {
     "data": {
      "text/plain": [
       "1101      2.7016\n",
       "5656      0.8959\n",
       "10387     1.9279\n",
       "13378    17.3109\n",
       "4537      8.8864\n",
       "          ...   \n",
       "12368     2.9584\n",
       "13260     1.7025\n",
       "6829      5.7234\n",
       "1724      1.9548\n",
       "9702      1.8455\n",
       "Name: LOS, Length: 9272, dtype: float64"
      ]
     },
     "execution_count": 35,
     "metadata": {},
     "output_type": "execute_result"
    }
   ],
   "source": [
    "y_train"
   ]
  },
  {
   "cell_type": "code",
   "execution_count": 36,
   "metadata": {},
   "outputs": [
    {
     "data": {
      "text/plain": [
       "2.360404379199684"
      ]
     },
     "execution_count": 36,
     "metadata": {},
     "output_type": "execute_result"
    }
   ],
   "source": [
    "from sklearn.linear_model import LinearRegression\n",
    "reg = LinearRegression()\n",
    "pip_reg = Pipeline(steps = [('preprocessor', TargetEncoder(cat)), ('scaler', RobustScaler()), ('reg', reg)])\n",
    "pip_reg.fit(X_train, y_train)\n",
    "mean_absolute_error(y_test, pip_reg.predict(X_test))"
   ]
  },
  {
   "cell_type": "code",
   "execution_count": 37,
   "metadata": {},
   "outputs": [
    {
     "name": "stdout",
     "output_type": "stream",
     "text": [
      "Fitting 5 folds for each of 210 candidates, totalling 1050 fits\n"
     ]
    },
    {
     "name": "stderr",
     "output_type": "stream",
     "text": [
      "[Parallel(n_jobs=-1)]: Using backend LokyBackend with 4 concurrent workers.\n",
      "[Parallel(n_jobs=-1)]: Done  68 tasks      | elapsed:    2.6s\n",
      "[Parallel(n_jobs=-1)]: Done 1050 out of 1050 | elapsed:    7.2s finished\n"
     ]
    },
    {
     "data": {
      "text/plain": [
       "2.3411713969711343"
      ]
     },
     "execution_count": 37,
     "metadata": {},
     "output_type": "execute_result"
    }
   ],
   "source": [
    "from sklearn.linear_model import ElasticNet\n",
    "net = ElasticNet()\n",
    "grid = {\"reg__max_iter\": [1, 5, 10],\n",
    "                  \"reg__alpha\": [0.0001, 0.001, 0.01, 0.1, 1, 10, 100],\n",
    "                  \"reg__l1_ratio\": np.arange(0.0, 1.0, 0.1)}\n",
    "pip = Pipeline(steps = [('preprocessor', TargetEncoder(cat)), ('scaler', StandardScaler()), ('reg', net)])\n",
    "\n",
    "grid_net = GridSearchCV(pip, grid, scoring='neg_mean_absolute_error', cv=5, n_jobs = -1, verbose = 1)\n",
    "grid_net.fit(X_train, y_train)\n",
    "best_net = grid_net.best_estimator_\n",
    "mean_absolute_error(y_test, best_net.predict(X_test))"
   ]
  },
  {
   "cell_type": "code",
   "execution_count": 38,
   "metadata": {},
   "outputs": [],
   "source": [
    "submit(best_net, test, \"best_net.csv\")"
   ]
  },
  {
   "cell_type": "code",
   "execution_count": 39,
   "metadata": {},
   "outputs": [
    {
     "name": "stdout",
     "output_type": "stream",
     "text": [
      "Fitting 5 folds for each of 50 candidates, totalling 250 fits\n"
     ]
    },
    {
     "name": "stderr",
     "output_type": "stream",
     "text": [
      "[Parallel(n_jobs=-1)]: Using backend LokyBackend with 4 concurrent workers.\n",
      "[Parallel(n_jobs=-1)]: Done 250 out of 250 | elapsed:    0.9s finished\n"
     ]
    },
    {
     "data": {
      "text/plain": [
       "2.3596547734113167"
      ]
     },
     "execution_count": 39,
     "metadata": {},
     "output_type": "execute_result"
    }
   ],
   "source": [
    "from sklearn.linear_model import Ridge\n",
    "rid = Ridge()\n",
    "grid = {\"reg__alpha\": np.logspace(-3, 1.5, 50)}\n",
    "pip = Pipeline(steps = [('preprocessor', TargetEncoder(cat)), ('scaler', StandardScaler()), ('reg', rid)])\n",
    "grid_rid = GridSearchCV(pip, grid, scoring='neg_mean_absolute_error', cv=5, n_jobs = -1, verbose = 1)\n",
    "grid_rid.fit(X_train, y_train)\n",
    "best_rid = grid_rid.best_estimator_\n",
    "mean_absolute_error(y_test, best_rid.predict(X_test))"
   ]
  },
  {
   "cell_type": "code",
   "execution_count": 40,
   "metadata": {},
   "outputs": [],
   "source": [
    "submit(best_rid, test, \"best_rid.csv\")"
   ]
  },
  {
   "cell_type": "code",
   "execution_count": 41,
   "metadata": {},
   "outputs": [
    {
     "name": "stdout",
     "output_type": "stream",
     "text": [
      "Fitting 5 folds for each of 50 candidates, totalling 250 fits\n"
     ]
    },
    {
     "name": "stderr",
     "output_type": "stream",
     "text": [
      "[Parallel(n_jobs=-1)]: Using backend LokyBackend with 4 concurrent workers.\n",
      "[Parallel(n_jobs=-1)]: Done 250 out of 250 | elapsed:    1.2s finished\n"
     ]
    },
    {
     "data": {
      "text/plain": [
       "2.3596547734113167"
      ]
     },
     "execution_count": 41,
     "metadata": {},
     "output_type": "execute_result"
    }
   ],
   "source": [
    "from sklearn.linear_model import Lasso\n",
    "las = Lasso()\n",
    "grid = {\"reg__alpha\": np.logspace(-3, 1.5, 50)}\n",
    "pip = Pipeline(steps = [('preprocessor', TargetEncoder(cat)), ('scaler', StandardScaler()), ('reg', rid)])\n",
    "grid_las = GridSearchCV(pip, grid, scoring='neg_mean_absolute_error', cv=5, n_jobs = -1, verbose = 1)\n",
    "grid_las.fit(X_train, y_train)\n",
    "best_las = grid_las.best_estimator_\n",
    "mean_absolute_error(y_test, best_las.predict(X_test))"
   ]
  },
  {
   "cell_type": "code",
   "execution_count": 42,
   "metadata": {},
   "outputs": [],
   "source": [
    "submit(best_las, test, \"best_las.csv\")"
   ]
  },
  {
   "cell_type": "code",
   "execution_count": 43,
   "metadata": {},
   "outputs": [],
   "source": [
    "#ensemle of two models\n",
    "def ensemble(model1,model2, X_test = X_test, y_test =y_test):\n",
    "    from tqdm import tqdm\n",
    "    best = 9999999999999999999\n",
    "    for alpha in tqdm(np.linspace(0,1,200)):\n",
    "        temp = mean_absolute_error(y_test, (alpha* (model1.predict(X_test)) + (1-alpha)*(model2.predict(X_test))))\n",
    "        if temp < best:\n",
    "            a = alpha\n",
    "            best = temp\n",
    "\n",
    "    return a, best"
   ]
  },
  {
   "cell_type": "code",
   "execution_count": 44,
   "metadata": {
    "scrolled": true
   },
   "outputs": [
    {
     "name": "stderr",
     "output_type": "stream",
     "text": [
      "\r",
      "  0%|          | 0/200 [00:00<?, ?it/s]"
     ]
    },
    {
     "name": "stdout",
     "output_type": "stream",
     "text": [
      "457/457 [==============================] - 0s 921us/step\n"
     ]
    },
    {
     "name": "stderr",
     "output_type": "stream",
     "text": [
      "\r",
      "  0%|          | 1/200 [00:00<01:34,  2.10it/s]"
     ]
    },
    {
     "name": "stdout",
     "output_type": "stream",
     "text": [
      "457/457 [==============================] - 0s 946us/step\n"
     ]
    },
    {
     "name": "stderr",
     "output_type": "stream",
     "text": [
      "\r",
      "  1%|          | 2/200 [00:00<01:34,  2.10it/s]"
     ]
    },
    {
     "name": "stdout",
     "output_type": "stream",
     "text": [
      "457/457 [==============================] - 0s 1ms/step\n"
     ]
    },
    {
     "name": "stderr",
     "output_type": "stream",
     "text": [
      "\r",
      "  2%|▏         | 3/200 [00:01<01:35,  2.06it/s]"
     ]
    },
    {
     "name": "stdout",
     "output_type": "stream",
     "text": [
      "457/457 [==============================] - 0s 978us/step\n"
     ]
    },
    {
     "name": "stderr",
     "output_type": "stream",
     "text": [
      "\r",
      "  2%|▏         | 4/200 [00:01<01:35,  2.05it/s]"
     ]
    },
    {
     "name": "stdout",
     "output_type": "stream",
     "text": [
      "457/457 [==============================] - 0s 799us/step\n"
     ]
    },
    {
     "name": "stderr",
     "output_type": "stream",
     "text": [
      "\r",
      "  2%|▎         | 5/200 [00:02<01:30,  2.16it/s]"
     ]
    },
    {
     "name": "stdout",
     "output_type": "stream",
     "text": [
      "457/457 [==============================] - 0s 952us/step\n"
     ]
    },
    {
     "name": "stderr",
     "output_type": "stream",
     "text": [
      "\r",
      "  3%|▎         | 6/200 [00:02<01:30,  2.13it/s]"
     ]
    },
    {
     "name": "stdout",
     "output_type": "stream",
     "text": [
      "457/457 [==============================] - 0s 1ms/step\n"
     ]
    },
    {
     "name": "stderr",
     "output_type": "stream",
     "text": [
      "\r",
      "  4%|▎         | 7/200 [00:03<01:34,  2.04it/s]"
     ]
    },
    {
     "name": "stdout",
     "output_type": "stream",
     "text": [
      "457/457 [==============================] - 0s 1ms/step\n"
     ]
    },
    {
     "name": "stderr",
     "output_type": "stream",
     "text": [
      "\r",
      "  4%|▍         | 8/200 [00:03<01:35,  2.01it/s]"
     ]
    },
    {
     "name": "stdout",
     "output_type": "stream",
     "text": [
      "457/457 [==============================] - 0s 853us/step\n"
     ]
    },
    {
     "name": "stderr",
     "output_type": "stream",
     "text": [
      "\r",
      "  4%|▍         | 9/200 [00:04<01:31,  2.10it/s]"
     ]
    },
    {
     "name": "stdout",
     "output_type": "stream",
     "text": [
      "457/457 [==============================] - 0s 820us/step\n"
     ]
    },
    {
     "name": "stderr",
     "output_type": "stream",
     "text": [
      "\r",
      "  5%|▌         | 10/200 [00:04<01:27,  2.18it/s]"
     ]
    },
    {
     "name": "stdout",
     "output_type": "stream",
     "text": [
      "457/457 [==============================] - 0s 871us/step\n"
     ]
    },
    {
     "name": "stderr",
     "output_type": "stream",
     "text": [
      "\r",
      "  6%|▌         | 11/200 [00:05<01:25,  2.20it/s]"
     ]
    },
    {
     "name": "stdout",
     "output_type": "stream",
     "text": [
      "457/457 [==============================] - 0s 897us/step\n"
     ]
    },
    {
     "name": "stderr",
     "output_type": "stream",
     "text": [
      "\r",
      "  6%|▌         | 12/200 [00:05<01:25,  2.21it/s]"
     ]
    },
    {
     "name": "stdout",
     "output_type": "stream",
     "text": [
      "457/457 [==============================] - 0s 800us/step\n"
     ]
    },
    {
     "name": "stderr",
     "output_type": "stream",
     "text": [
      "\r",
      "  6%|▋         | 13/200 [00:06<01:21,  2.28it/s]"
     ]
    },
    {
     "name": "stdout",
     "output_type": "stream",
     "text": [
      "457/457 [==============================] - 0s 989us/step\n"
     ]
    },
    {
     "name": "stderr",
     "output_type": "stream",
     "text": [
      "\r",
      "  7%|▋         | 14/200 [00:06<01:24,  2.19it/s]"
     ]
    },
    {
     "name": "stdout",
     "output_type": "stream",
     "text": [
      "457/457 [==============================] - 0s 908us/step\n"
     ]
    },
    {
     "name": "stderr",
     "output_type": "stream",
     "text": [
      "\r",
      "  8%|▊         | 15/200 [00:06<01:24,  2.20it/s]"
     ]
    },
    {
     "name": "stdout",
     "output_type": "stream",
     "text": [
      "457/457 [==============================] - 0s 840us/step\n"
     ]
    },
    {
     "name": "stderr",
     "output_type": "stream",
     "text": [
      "\r",
      "  8%|▊         | 16/200 [00:07<01:21,  2.24it/s]"
     ]
    },
    {
     "name": "stdout",
     "output_type": "stream",
     "text": [
      "457/457 [==============================] - 0s 1ms/step\n"
     ]
    },
    {
     "name": "stderr",
     "output_type": "stream",
     "text": [
      "\r",
      "  8%|▊         | 17/200 [00:07<01:26,  2.13it/s]"
     ]
    },
    {
     "name": "stdout",
     "output_type": "stream",
     "text": [
      "457/457 [==============================] - 0s 1ms/step\n"
     ]
    },
    {
     "name": "stderr",
     "output_type": "stream",
     "text": [
      "\r",
      "  9%|▉         | 18/200 [00:08<01:28,  2.06it/s]"
     ]
    },
    {
     "name": "stdout",
     "output_type": "stream",
     "text": [
      "457/457 [==============================] - 0s 961us/step\n"
     ]
    },
    {
     "name": "stderr",
     "output_type": "stream",
     "text": [
      "\r",
      " 10%|▉         | 19/200 [00:08<01:28,  2.06it/s]"
     ]
    },
    {
     "name": "stdout",
     "output_type": "stream",
     "text": [
      "457/457 [==============================] - 0s 875us/step\n"
     ]
    },
    {
     "name": "stderr",
     "output_type": "stream",
     "text": [
      "\r",
      " 10%|█         | 20/200 [00:09<01:24,  2.12it/s]"
     ]
    },
    {
     "name": "stdout",
     "output_type": "stream",
     "text": [
      "457/457 [==============================] - 0s 1ms/step\n"
     ]
    },
    {
     "name": "stderr",
     "output_type": "stream",
     "text": [
      "\r",
      " 10%|█         | 21/200 [00:09<01:27,  2.05it/s]"
     ]
    },
    {
     "name": "stdout",
     "output_type": "stream",
     "text": [
      "457/457 [==============================] - 0s 897us/step\n"
     ]
    },
    {
     "name": "stderr",
     "output_type": "stream",
     "text": [
      "\r",
      " 11%|█         | 22/200 [00:10<01:25,  2.09it/s]"
     ]
    },
    {
     "name": "stdout",
     "output_type": "stream",
     "text": [
      "457/457 [==============================] - 1s 1ms/step\n"
     ]
    },
    {
     "name": "stderr",
     "output_type": "stream",
     "text": [
      "\r",
      " 12%|█▏        | 23/200 [00:10<01:28,  2.01it/s]"
     ]
    },
    {
     "name": "stdout",
     "output_type": "stream",
     "text": [
      "457/457 [==============================] - 0s 1ms/step\n"
     ]
    },
    {
     "name": "stderr",
     "output_type": "stream",
     "text": [
      "\r",
      " 12%|█▏        | 24/200 [00:11<01:28,  1.99it/s]"
     ]
    },
    {
     "name": "stdout",
     "output_type": "stream",
     "text": [
      "457/457 [==============================] - 0s 910us/step\n"
     ]
    },
    {
     "name": "stderr",
     "output_type": "stream",
     "text": [
      "\r",
      " 12%|█▎        | 25/200 [00:11<01:25,  2.04it/s]"
     ]
    },
    {
     "name": "stdout",
     "output_type": "stream",
     "text": [
      "457/457 [==============================] - 0s 938us/step\n"
     ]
    },
    {
     "name": "stderr",
     "output_type": "stream",
     "text": [
      "\r",
      " 13%|█▎        | 26/200 [00:12<01:24,  2.07it/s]"
     ]
    },
    {
     "name": "stdout",
     "output_type": "stream",
     "text": [
      "457/457 [==============================] - 0s 895us/step\n"
     ]
    },
    {
     "name": "stderr",
     "output_type": "stream",
     "text": [
      "\r",
      " 14%|█▎        | 27/200 [00:12<01:21,  2.11it/s]"
     ]
    },
    {
     "name": "stdout",
     "output_type": "stream",
     "text": [
      "457/457 [==============================] - 0s 916us/step\n"
     ]
    },
    {
     "name": "stderr",
     "output_type": "stream",
     "text": [
      "\r",
      " 14%|█▍        | 28/200 [00:13<01:21,  2.12it/s]"
     ]
    },
    {
     "name": "stdout",
     "output_type": "stream",
     "text": [
      "457/457 [==============================] - 0s 1ms/step\n"
     ]
    },
    {
     "name": "stderr",
     "output_type": "stream",
     "text": [
      "\r",
      " 14%|█▍        | 29/200 [00:13<01:22,  2.06it/s]"
     ]
    },
    {
     "name": "stdout",
     "output_type": "stream",
     "text": [
      "457/457 [==============================] - 0s 974us/step\n"
     ]
    },
    {
     "name": "stderr",
     "output_type": "stream",
     "text": [
      "\r",
      " 15%|█▌        | 30/200 [00:14<01:26,  1.96it/s]"
     ]
    },
    {
     "name": "stdout",
     "output_type": "stream",
     "text": [
      "457/457 [==============================] - 0s 803us/step\n"
     ]
    },
    {
     "name": "stderr",
     "output_type": "stream",
     "text": [
      "\r",
      " 16%|█▌        | 31/200 [00:14<01:20,  2.09it/s]"
     ]
    },
    {
     "name": "stdout",
     "output_type": "stream",
     "text": [
      "457/457 [==============================] - 0s 923us/step\n"
     ]
    },
    {
     "name": "stderr",
     "output_type": "stream",
     "text": [
      "\r",
      " 16%|█▌        | 32/200 [00:15<01:19,  2.11it/s]"
     ]
    },
    {
     "name": "stdout",
     "output_type": "stream",
     "text": [
      "457/457 [==============================] - 0s 932us/step\n"
     ]
    },
    {
     "name": "stderr",
     "output_type": "stream",
     "text": [
      "\r",
      " 16%|█▋        | 33/200 [00:15<01:18,  2.12it/s]"
     ]
    },
    {
     "name": "stdout",
     "output_type": "stream",
     "text": [
      "457/457 [==============================] - 0s 819us/step\n"
     ]
    },
    {
     "name": "stderr",
     "output_type": "stream",
     "text": [
      "\r",
      " 17%|█▋        | 34/200 [00:16<01:15,  2.20it/s]"
     ]
    },
    {
     "name": "stdout",
     "output_type": "stream",
     "text": [
      "457/457 [==============================] - 0s 798us/step\n"
     ]
    },
    {
     "name": "stderr",
     "output_type": "stream",
     "text": [
      "\r",
      " 18%|█▊        | 35/200 [00:16<01:12,  2.28it/s]"
     ]
    },
    {
     "name": "stdout",
     "output_type": "stream",
     "text": [
      "457/457 [==============================] - 0s 825us/step\n"
     ]
    },
    {
     "name": "stderr",
     "output_type": "stream",
     "text": [
      "\r",
      " 18%|█▊        | 36/200 [00:16<01:10,  2.31it/s]"
     ]
    },
    {
     "name": "stdout",
     "output_type": "stream",
     "text": [
      "457/457 [==============================] - 0s 836us/step\n"
     ]
    },
    {
     "name": "stderr",
     "output_type": "stream",
     "text": [
      "\r",
      " 18%|█▊        | 37/200 [00:17<01:10,  2.32it/s]"
     ]
    },
    {
     "name": "stdout",
     "output_type": "stream",
     "text": [
      "457/457 [==============================] - 0s 803us/step\n"
     ]
    },
    {
     "name": "stderr",
     "output_type": "stream",
     "text": [
      "\r",
      " 19%|█▉        | 38/200 [00:17<01:08,  2.36it/s]"
     ]
    },
    {
     "name": "stdout",
     "output_type": "stream",
     "text": [
      "457/457 [==============================] - 0s 842us/step\n"
     ]
    },
    {
     "name": "stderr",
     "output_type": "stream",
     "text": [
      "\r",
      " 20%|█▉        | 39/200 [00:18<01:08,  2.35it/s]"
     ]
    },
    {
     "name": "stdout",
     "output_type": "stream",
     "text": [
      "457/457 [==============================] - 0s 958us/step\n"
     ]
    },
    {
     "name": "stderr",
     "output_type": "stream",
     "text": [
      "\r",
      " 20%|██        | 40/200 [00:18<01:10,  2.27it/s]"
     ]
    },
    {
     "name": "stdout",
     "output_type": "stream",
     "text": [
      "457/457 [==============================] - 0s 1ms/step\n"
     ]
    },
    {
     "name": "stderr",
     "output_type": "stream",
     "text": [
      "\r",
      " 20%|██        | 41/200 [00:19<01:13,  2.17it/s]"
     ]
    },
    {
     "name": "stdout",
     "output_type": "stream",
     "text": [
      "457/457 [==============================] - 1s 1ms/step\n"
     ]
    },
    {
     "name": "stderr",
     "output_type": "stream",
     "text": [
      "\r",
      " 21%|██        | 42/200 [00:19<01:17,  2.03it/s]"
     ]
    },
    {
     "name": "stdout",
     "output_type": "stream",
     "text": [
      "457/457 [==============================] - 1s 1ms/step\n"
     ]
    },
    {
     "name": "stderr",
     "output_type": "stream",
     "text": [
      "\r",
      " 22%|██▏       | 43/200 [00:20<01:20,  1.94it/s]"
     ]
    },
    {
     "name": "stdout",
     "output_type": "stream",
     "text": [
      "457/457 [==============================] - 0s 884us/step\n"
     ]
    },
    {
     "name": "stderr",
     "output_type": "stream",
     "text": [
      "\r",
      " 22%|██▏       | 44/200 [00:20<01:17,  2.01it/s]"
     ]
    },
    {
     "name": "stdout",
     "output_type": "stream",
     "text": [
      "457/457 [==============================] - 0s 873us/step\n"
     ]
    },
    {
     "name": "stderr",
     "output_type": "stream",
     "text": [
      "\r",
      " 22%|██▎       | 45/200 [00:21<01:14,  2.08it/s]"
     ]
    },
    {
     "name": "stdout",
     "output_type": "stream",
     "text": [
      "457/457 [==============================] - 0s 855us/step\n"
     ]
    },
    {
     "name": "stderr",
     "output_type": "stream",
     "text": [
      "\r",
      " 23%|██▎       | 46/200 [00:21<01:12,  2.14it/s]"
     ]
    },
    {
     "name": "stdout",
     "output_type": "stream",
     "text": [
      "457/457 [==============================] - 1s 1ms/step\n"
     ]
    },
    {
     "name": "stderr",
     "output_type": "stream",
     "text": [
      "\r",
      " 24%|██▎       | 47/200 [00:22<01:15,  2.03it/s]"
     ]
    },
    {
     "name": "stdout",
     "output_type": "stream",
     "text": [
      "457/457 [==============================] - 0s 811us/step\n"
     ]
    },
    {
     "name": "stderr",
     "output_type": "stream",
     "text": [
      "\r",
      " 24%|██▍       | 48/200 [00:22<01:11,  2.13it/s]"
     ]
    },
    {
     "name": "stdout",
     "output_type": "stream",
     "text": [
      "457/457 [==============================] - 0s 776us/step\n"
     ]
    },
    {
     "name": "stderr",
     "output_type": "stream",
     "text": [
      "\r",
      " 24%|██▍       | 49/200 [00:23<01:07,  2.24it/s]"
     ]
    },
    {
     "name": "stdout",
     "output_type": "stream",
     "text": [
      "457/457 [==============================] - 0s 1ms/step\n"
     ]
    },
    {
     "name": "stderr",
     "output_type": "stream",
     "text": [
      "\r",
      " 25%|██▌       | 50/200 [00:23<01:09,  2.16it/s]"
     ]
    },
    {
     "name": "stdout",
     "output_type": "stream",
     "text": [
      "457/457 [==============================] - 0s 950us/step\n"
     ]
    },
    {
     "name": "stderr",
     "output_type": "stream",
     "text": [
      "\r",
      " 26%|██▌       | 51/200 [00:23<01:09,  2.14it/s]"
     ]
    },
    {
     "name": "stdout",
     "output_type": "stream",
     "text": [
      "457/457 [==============================] - 0s 958us/step\n"
     ]
    },
    {
     "name": "stderr",
     "output_type": "stream",
     "text": [
      "\r",
      " 26%|██▌       | 52/200 [00:24<01:09,  2.13it/s]"
     ]
    },
    {
     "name": "stdout",
     "output_type": "stream",
     "text": [
      "457/457 [==============================] - 0s 965us/step\n"
     ]
    },
    {
     "name": "stderr",
     "output_type": "stream",
     "text": [
      "\r",
      " 26%|██▋       | 53/200 [00:24<01:09,  2.11it/s]"
     ]
    },
    {
     "name": "stdout",
     "output_type": "stream",
     "text": [
      "457/457 [==============================] - 0s 956us/step\n"
     ]
    },
    {
     "name": "stderr",
     "output_type": "stream",
     "text": [
      "\r",
      " 27%|██▋       | 54/200 [00:25<01:09,  2.10it/s]"
     ]
    },
    {
     "name": "stdout",
     "output_type": "stream",
     "text": [
      "457/457 [==============================] - 0s 1ms/step\n"
     ]
    },
    {
     "name": "stderr",
     "output_type": "stream",
     "text": [
      "\r",
      " 28%|██▊       | 55/200 [00:25<01:11,  2.04it/s]"
     ]
    },
    {
     "name": "stdout",
     "output_type": "stream",
     "text": [
      "457/457 [==============================] - 0s 1ms/step\n"
     ]
    },
    {
     "name": "stderr",
     "output_type": "stream",
     "text": [
      "\r",
      " 28%|██▊       | 56/200 [00:26<01:12,  1.98it/s]"
     ]
    },
    {
     "name": "stdout",
     "output_type": "stream",
     "text": [
      "457/457 [==============================] - 0s 947us/step\n"
     ]
    },
    {
     "name": "stderr",
     "output_type": "stream",
     "text": [
      "\r",
      " 28%|██▊       | 57/200 [00:26<01:11,  2.01it/s]"
     ]
    },
    {
     "name": "stdout",
     "output_type": "stream",
     "text": [
      "457/457 [==============================] - 0s 844us/step\n"
     ]
    },
    {
     "name": "stderr",
     "output_type": "stream",
     "text": [
      "\r",
      " 29%|██▉       | 58/200 [00:27<01:07,  2.10it/s]"
     ]
    },
    {
     "name": "stdout",
     "output_type": "stream",
     "text": [
      "457/457 [==============================] - 0s 993us/step\n"
     ]
    },
    {
     "name": "stderr",
     "output_type": "stream",
     "text": [
      "\r",
      " 30%|██▉       | 59/200 [00:27<01:08,  2.07it/s]"
     ]
    },
    {
     "name": "stdout",
     "output_type": "stream",
     "text": [
      "457/457 [==============================] - 0s 840us/step\n"
     ]
    },
    {
     "name": "stderr",
     "output_type": "stream",
     "text": [
      "\r",
      " 30%|███       | 60/200 [00:28<01:05,  2.15it/s]"
     ]
    },
    {
     "name": "stdout",
     "output_type": "stream",
     "text": [
      "457/457 [==============================] - 0s 798us/step\n"
     ]
    },
    {
     "name": "stderr",
     "output_type": "stream",
     "text": [
      "\r",
      " 30%|███       | 61/200 [00:28<01:02,  2.23it/s]"
     ]
    },
    {
     "name": "stdout",
     "output_type": "stream",
     "text": [
      "457/457 [==============================] - 0s 967us/step\n"
     ]
    },
    {
     "name": "stderr",
     "output_type": "stream",
     "text": [
      "\r",
      " 31%|███       | 62/200 [00:29<01:03,  2.18it/s]"
     ]
    },
    {
     "name": "stdout",
     "output_type": "stream",
     "text": [
      "457/457 [==============================] - 0s 989us/step\n"
     ]
    },
    {
     "name": "stderr",
     "output_type": "stream",
     "text": [
      "\r",
      " 32%|███▏      | 63/200 [00:29<01:04,  2.13it/s]"
     ]
    },
    {
     "name": "stdout",
     "output_type": "stream",
     "text": [
      "457/457 [==============================] - 0s 811us/step\n"
     ]
    },
    {
     "name": "stderr",
     "output_type": "stream",
     "text": [
      "\r",
      " 32%|███▏      | 64/200 [00:30<01:01,  2.22it/s]"
     ]
    },
    {
     "name": "stdout",
     "output_type": "stream",
     "text": [
      "457/457 [==============================] - 0s 1ms/step\n"
     ]
    },
    {
     "name": "stderr",
     "output_type": "stream",
     "text": [
      "\r",
      " 32%|███▎      | 65/200 [00:30<01:03,  2.14it/s]"
     ]
    },
    {
     "name": "stdout",
     "output_type": "stream",
     "text": [
      "457/457 [==============================] - 0s 904us/step\n"
     ]
    },
    {
     "name": "stderr",
     "output_type": "stream",
     "text": [
      "\r",
      " 33%|███▎      | 66/200 [00:31<01:02,  2.16it/s]"
     ]
    },
    {
     "name": "stdout",
     "output_type": "stream",
     "text": [
      "457/457 [==============================] - 0s 976us/step\n"
     ]
    },
    {
     "name": "stderr",
     "output_type": "stream",
     "text": [
      "\r",
      " 34%|███▎      | 67/200 [00:31<01:02,  2.11it/s]"
     ]
    },
    {
     "name": "stdout",
     "output_type": "stream",
     "text": [
      "457/457 [==============================] - 0s 868us/step\n"
     ]
    },
    {
     "name": "stderr",
     "output_type": "stream",
     "text": [
      "\r",
      " 34%|███▍      | 68/200 [00:32<01:01,  2.16it/s]"
     ]
    },
    {
     "name": "stdout",
     "output_type": "stream",
     "text": [
      "457/457 [==============================] - 0s 985us/step\n"
     ]
    },
    {
     "name": "stderr",
     "output_type": "stream",
     "text": [
      "\r",
      " 34%|███▍      | 69/200 [00:32<01:01,  2.12it/s]"
     ]
    },
    {
     "name": "stdout",
     "output_type": "stream",
     "text": [
      "457/457 [==============================] - 0s 864us/step\n"
     ]
    },
    {
     "name": "stderr",
     "output_type": "stream",
     "text": [
      "\r",
      " 35%|███▌      | 70/200 [00:32<00:59,  2.17it/s]"
     ]
    },
    {
     "name": "stdout",
     "output_type": "stream",
     "text": [
      "457/457 [==============================] - 0s 941us/step\n"
     ]
    },
    {
     "name": "stderr",
     "output_type": "stream",
     "text": [
      "\r",
      " 36%|███▌      | 71/200 [00:33<01:00,  2.15it/s]"
     ]
    },
    {
     "name": "stdout",
     "output_type": "stream",
     "text": [
      "457/457 [==============================] - 0s 1ms/step\n"
     ]
    },
    {
     "name": "stderr",
     "output_type": "stream",
     "text": [
      "\r",
      " 36%|███▌      | 72/200 [00:33<01:02,  2.04it/s]"
     ]
    },
    {
     "name": "stdout",
     "output_type": "stream",
     "text": [
      "457/457 [==============================] - 0s 884us/step\n"
     ]
    },
    {
     "name": "stderr",
     "output_type": "stream",
     "text": [
      "\r",
      " 36%|███▋      | 73/200 [00:34<01:00,  2.09it/s]"
     ]
    },
    {
     "name": "stdout",
     "output_type": "stream",
     "text": [
      "457/457 [==============================] - 0s 996us/step\n"
     ]
    },
    {
     "name": "stderr",
     "output_type": "stream",
     "text": [
      "\r",
      " 37%|███▋      | 74/200 [00:34<01:00,  2.07it/s]"
     ]
    },
    {
     "name": "stdout",
     "output_type": "stream",
     "text": [
      "457/457 [==============================] - 1s 1ms/step\n"
     ]
    },
    {
     "name": "stderr",
     "output_type": "stream",
     "text": [
      "\r",
      " 38%|███▊      | 75/200 [00:35<01:06,  1.87it/s]"
     ]
    },
    {
     "name": "stdout",
     "output_type": "stream",
     "text": [
      "457/457 [==============================] - 0s 972us/step\n"
     ]
    },
    {
     "name": "stderr",
     "output_type": "stream",
     "text": [
      "\r",
      " 38%|███▊      | 76/200 [00:36<01:05,  1.90it/s]"
     ]
    },
    {
     "name": "stdout",
     "output_type": "stream",
     "text": [
      "457/457 [==============================] - 0s 818us/step\n"
     ]
    },
    {
     "name": "stderr",
     "output_type": "stream",
     "text": [
      "\r",
      " 38%|███▊      | 77/200 [00:36<01:00,  2.03it/s]"
     ]
    },
    {
     "name": "stdout",
     "output_type": "stream",
     "text": [
      "457/457 [==============================] - 0s 798us/step\n"
     ]
    },
    {
     "name": "stderr",
     "output_type": "stream",
     "text": [
      "\r",
      " 39%|███▉      | 78/200 [00:36<00:56,  2.15it/s]"
     ]
    },
    {
     "name": "stdout",
     "output_type": "stream",
     "text": [
      "457/457 [==============================] - 0s 807us/step\n"
     ]
    },
    {
     "name": "stderr",
     "output_type": "stream",
     "text": [
      "\r",
      " 40%|███▉      | 79/200 [00:37<00:54,  2.23it/s]"
     ]
    },
    {
     "name": "stdout",
     "output_type": "stream",
     "text": [
      "457/457 [==============================] - 0s 912us/step\n"
     ]
    },
    {
     "name": "stderr",
     "output_type": "stream",
     "text": [
      "\r",
      " 40%|████      | 80/200 [00:37<00:54,  2.22it/s]"
     ]
    },
    {
     "name": "stdout",
     "output_type": "stream",
     "text": [
      "457/457 [==============================] - 0s 866us/step\n"
     ]
    },
    {
     "name": "stderr",
     "output_type": "stream",
     "text": [
      "\r",
      " 40%|████      | 81/200 [00:38<00:53,  2.23it/s]"
     ]
    },
    {
     "name": "stdout",
     "output_type": "stream",
     "text": [
      "457/457 [==============================] - 0s 807us/step\n"
     ]
    },
    {
     "name": "stderr",
     "output_type": "stream",
     "text": [
      "\r",
      " 41%|████      | 82/200 [00:38<00:51,  2.30it/s]"
     ]
    },
    {
     "name": "stdout",
     "output_type": "stream",
     "text": [
      "457/457 [==============================] - 0s 822us/step\n"
     ]
    },
    {
     "name": "stderr",
     "output_type": "stream",
     "text": [
      "\r",
      " 42%|████▏     | 83/200 [00:39<00:50,  2.33it/s]"
     ]
    },
    {
     "name": "stdout",
     "output_type": "stream",
     "text": [
      "457/457 [==============================] - 0s 950us/step\n"
     ]
    },
    {
     "name": "stderr",
     "output_type": "stream",
     "text": [
      "\r",
      " 42%|████▏     | 84/200 [00:39<00:51,  2.24it/s]"
     ]
    },
    {
     "name": "stdout",
     "output_type": "stream",
     "text": [
      "457/457 [==============================] - 0s 864us/step\n"
     ]
    },
    {
     "name": "stderr",
     "output_type": "stream",
     "text": [
      "\r",
      " 42%|████▎     | 85/200 [00:39<00:51,  2.25it/s]"
     ]
    },
    {
     "name": "stdout",
     "output_type": "stream",
     "text": [
      "457/457 [==============================] - 0s 1ms/step\n"
     ]
    },
    {
     "name": "stderr",
     "output_type": "stream",
     "text": [
      "\r",
      " 43%|████▎     | 86/200 [00:40<00:53,  2.13it/s]"
     ]
    },
    {
     "name": "stdout",
     "output_type": "stream",
     "text": [
      "457/457 [==============================] - 0s 904us/step\n"
     ]
    },
    {
     "name": "stderr",
     "output_type": "stream",
     "text": [
      "\r",
      " 44%|████▎     | 87/200 [00:40<00:52,  2.15it/s]"
     ]
    },
    {
     "name": "stdout",
     "output_type": "stream",
     "text": [
      "457/457 [==============================] - 0s 906us/step\n"
     ]
    },
    {
     "name": "stderr",
     "output_type": "stream",
     "text": [
      "\r",
      " 44%|████▍     | 88/200 [00:41<00:51,  2.16it/s]"
     ]
    },
    {
     "name": "stdout",
     "output_type": "stream",
     "text": [
      "457/457 [==============================] - 0s 807us/step\n"
     ]
    },
    {
     "name": "stderr",
     "output_type": "stream",
     "text": [
      "\r",
      " 44%|████▍     | 89/200 [00:41<00:49,  2.24it/s]"
     ]
    },
    {
     "name": "stdout",
     "output_type": "stream",
     "text": [
      "457/457 [==============================] - 0s 853us/step\n"
     ]
    },
    {
     "name": "stderr",
     "output_type": "stream",
     "text": [
      "\r",
      " 45%|████▌     | 90/200 [00:42<00:48,  2.26it/s]"
     ]
    },
    {
     "name": "stdout",
     "output_type": "stream",
     "text": [
      "457/457 [==============================] - 0s 860us/step\n"
     ]
    },
    {
     "name": "stderr",
     "output_type": "stream",
     "text": [
      "\r",
      " 46%|████▌     | 91/200 [00:42<00:47,  2.27it/s]"
     ]
    },
    {
     "name": "stdout",
     "output_type": "stream",
     "text": [
      "457/457 [==============================] - 0s 925us/step\n"
     ]
    },
    {
     "name": "stderr",
     "output_type": "stream",
     "text": [
      "\r",
      " 46%|████▌     | 92/200 [00:43<00:48,  2.24it/s]"
     ]
    },
    {
     "name": "stdout",
     "output_type": "stream",
     "text": [
      "457/457 [==============================] - 0s 982us/step\n"
     ]
    },
    {
     "name": "stderr",
     "output_type": "stream",
     "text": [
      "\r",
      " 46%|████▋     | 93/200 [00:43<00:49,  2.16it/s]"
     ]
    },
    {
     "name": "stdout",
     "output_type": "stream",
     "text": [
      "457/457 [==============================] - 0s 818us/step\n"
     ]
    },
    {
     "name": "stderr",
     "output_type": "stream",
     "text": [
      "\r",
      " 47%|████▋     | 94/200 [00:44<00:47,  2.23it/s]"
     ]
    },
    {
     "name": "stdout",
     "output_type": "stream",
     "text": [
      "457/457 [==============================] - 0s 969us/step\n"
     ]
    },
    {
     "name": "stderr",
     "output_type": "stream",
     "text": [
      "\r",
      " 48%|████▊     | 95/200 [00:44<00:48,  2.17it/s]"
     ]
    },
    {
     "name": "stdout",
     "output_type": "stream",
     "text": [
      "457/457 [==============================] - 0s 976us/step\n"
     ]
    },
    {
     "name": "stderr",
     "output_type": "stream",
     "text": [
      "\r",
      " 48%|████▊     | 96/200 [00:45<00:48,  2.14it/s]"
     ]
    },
    {
     "name": "stdout",
     "output_type": "stream",
     "text": [
      "457/457 [==============================] - 0s 1ms/step\n"
     ]
    },
    {
     "name": "stderr",
     "output_type": "stream",
     "text": [
      "\r",
      " 48%|████▊     | 97/200 [00:45<00:50,  2.05it/s]"
     ]
    },
    {
     "name": "stdout",
     "output_type": "stream",
     "text": [
      "457/457 [==============================] - 1s 1ms/step\n"
     ]
    },
    {
     "name": "stderr",
     "output_type": "stream",
     "text": [
      "\r",
      " 49%|████▉     | 98/200 [00:46<00:52,  1.95it/s]"
     ]
    },
    {
     "name": "stdout",
     "output_type": "stream",
     "text": [
      "457/457 [==============================] - 0s 796us/step\n"
     ]
    },
    {
     "name": "stderr",
     "output_type": "stream",
     "text": [
      "\r",
      " 50%|████▉     | 99/200 [00:46<00:48,  2.08it/s]"
     ]
    },
    {
     "name": "stdout",
     "output_type": "stream",
     "text": [
      "457/457 [==============================] - 0s 794us/step\n"
     ]
    },
    {
     "name": "stderr",
     "output_type": "stream",
     "text": [
      "\r",
      " 50%|█████     | 100/200 [00:46<00:45,  2.19it/s]"
     ]
    },
    {
     "name": "stdout",
     "output_type": "stream",
     "text": [
      "457/457 [==============================] - 0s 798us/step\n"
     ]
    },
    {
     "name": "stderr",
     "output_type": "stream",
     "text": [
      "\r",
      " 50%|█████     | 101/200 [00:47<00:43,  2.27it/s]"
     ]
    },
    {
     "name": "stdout",
     "output_type": "stream",
     "text": [
      "457/457 [==============================] - 0s 979us/step\n"
     ]
    },
    {
     "name": "stderr",
     "output_type": "stream",
     "text": [
      "\r",
      " 51%|█████     | 102/200 [00:47<00:44,  2.20it/s]"
     ]
    },
    {
     "name": "stdout",
     "output_type": "stream",
     "text": [
      "457/457 [==============================] - 0s 816us/step\n"
     ]
    },
    {
     "name": "stderr",
     "output_type": "stream",
     "text": [
      "\r",
      " 52%|█████▏    | 103/200 [00:48<00:42,  2.27it/s]"
     ]
    },
    {
     "name": "stdout",
     "output_type": "stream",
     "text": [
      "457/457 [==============================] - 0s 846us/step\n"
     ]
    },
    {
     "name": "stderr",
     "output_type": "stream",
     "text": [
      "\r",
      " 52%|█████▏    | 104/200 [00:48<00:41,  2.29it/s]"
     ]
    },
    {
     "name": "stdout",
     "output_type": "stream",
     "text": [
      "457/457 [==============================] - 0s 958us/step\n"
     ]
    },
    {
     "name": "stderr",
     "output_type": "stream",
     "text": [
      "\r",
      " 52%|█████▎    | 105/200 [00:49<00:42,  2.22it/s]"
     ]
    },
    {
     "name": "stdout",
     "output_type": "stream",
     "text": [
      "457/457 [==============================] - 0s 1ms/step\n"
     ]
    },
    {
     "name": "stderr",
     "output_type": "stream",
     "text": [
      "\r",
      " 53%|█████▎    | 106/200 [00:49<00:44,  2.12it/s]"
     ]
    },
    {
     "name": "stdout",
     "output_type": "stream",
     "text": [
      "457/457 [==============================] - 0s 976us/step\n"
     ]
    },
    {
     "name": "stderr",
     "output_type": "stream",
     "text": [
      "\r",
      " 54%|█████▎    | 107/200 [00:50<00:44,  2.10it/s]"
     ]
    },
    {
     "name": "stdout",
     "output_type": "stream",
     "text": [
      "457/457 [==============================] - 0s 937us/step\n"
     ]
    },
    {
     "name": "stderr",
     "output_type": "stream",
     "text": [
      "\r",
      " 54%|█████▍    | 108/200 [00:50<00:43,  2.10it/s]"
     ]
    },
    {
     "name": "stdout",
     "output_type": "stream",
     "text": [
      "457/457 [==============================] - 1s 1ms/step\n"
     ]
    },
    {
     "name": "stderr",
     "output_type": "stream",
     "text": [
      "\r",
      " 55%|█████▍    | 109/200 [00:51<00:47,  1.93it/s]"
     ]
    },
    {
     "name": "stdout",
     "output_type": "stream",
     "text": [
      "457/457 [==============================] - 1s 1ms/step\n"
     ]
    },
    {
     "name": "stderr",
     "output_type": "stream",
     "text": [
      "\r",
      " 55%|█████▌    | 110/200 [00:51<00:47,  1.89it/s]"
     ]
    },
    {
     "name": "stdout",
     "output_type": "stream",
     "text": [
      "457/457 [==============================] - 0s 936us/step\n"
     ]
    },
    {
     "name": "stderr",
     "output_type": "stream",
     "text": [
      "\r",
      " 56%|█████▌    | 111/200 [00:52<00:45,  1.94it/s]"
     ]
    },
    {
     "name": "stdout",
     "output_type": "stream",
     "text": [
      "457/457 [==============================] - 0s 932us/step\n"
     ]
    },
    {
     "name": "stderr",
     "output_type": "stream",
     "text": [
      "\r",
      " 56%|█████▌    | 112/200 [00:52<00:44,  2.00it/s]"
     ]
    },
    {
     "name": "stdout",
     "output_type": "stream",
     "text": [
      "457/457 [==============================] - 0s 909us/step\n"
     ]
    },
    {
     "name": "stderr",
     "output_type": "stream",
     "text": [
      "\r",
      " 56%|█████▋    | 113/200 [00:53<00:42,  2.05it/s]"
     ]
    },
    {
     "name": "stdout",
     "output_type": "stream",
     "text": [
      "457/457 [==============================] - 0s 826us/step\n"
     ]
    },
    {
     "name": "stderr",
     "output_type": "stream",
     "text": [
      "\r",
      " 57%|█████▋    | 114/200 [00:53<00:40,  2.14it/s]"
     ]
    },
    {
     "name": "stdout",
     "output_type": "stream",
     "text": [
      "457/457 [==============================] - 0s 811us/step\n"
     ]
    },
    {
     "name": "stderr",
     "output_type": "stream",
     "text": [
      "\r",
      " 57%|█████▊    | 115/200 [00:54<00:38,  2.22it/s]"
     ]
    },
    {
     "name": "stdout",
     "output_type": "stream",
     "text": [
      "457/457 [==============================] - 0s 816us/step\n"
     ]
    },
    {
     "name": "stderr",
     "output_type": "stream",
     "text": [
      "\r",
      " 58%|█████▊    | 116/200 [00:54<00:36,  2.27it/s]"
     ]
    },
    {
     "name": "stdout",
     "output_type": "stream",
     "text": [
      "457/457 [==============================] - 0s 842us/step\n"
     ]
    },
    {
     "name": "stderr",
     "output_type": "stream",
     "text": [
      "\r",
      " 58%|█████▊    | 117/200 [00:55<00:39,  2.09it/s]"
     ]
    },
    {
     "name": "stdout",
     "output_type": "stream",
     "text": [
      "457/457 [==============================] - 0s 798us/step\n"
     ]
    },
    {
     "name": "stderr",
     "output_type": "stream",
     "text": [
      "\r",
      " 59%|█████▉    | 118/200 [00:55<00:37,  2.19it/s]"
     ]
    },
    {
     "name": "stdout",
     "output_type": "stream",
     "text": [
      "457/457 [==============================] - 0s 803us/step\n"
     ]
    },
    {
     "name": "stderr",
     "output_type": "stream",
     "text": [
      "\r",
      " 60%|█████▉    | 119/200 [00:55<00:35,  2.26it/s]"
     ]
    },
    {
     "name": "stdout",
     "output_type": "stream",
     "text": [
      "457/457 [==============================] - 0s 875us/step\n"
     ]
    },
    {
     "name": "stderr",
     "output_type": "stream",
     "text": [
      "\r",
      " 60%|██████    | 120/200 [00:56<00:35,  2.26it/s]"
     ]
    },
    {
     "name": "stdout",
     "output_type": "stream",
     "text": [
      "457/457 [==============================] - 0s 982us/step\n"
     ]
    },
    {
     "name": "stderr",
     "output_type": "stream",
     "text": [
      "\r",
      " 60%|██████    | 121/200 [00:56<00:36,  2.19it/s]"
     ]
    },
    {
     "name": "stdout",
     "output_type": "stream",
     "text": [
      "457/457 [==============================] - 0s 841us/step\n"
     ]
    },
    {
     "name": "stderr",
     "output_type": "stream",
     "text": [
      "\r",
      " 61%|██████    | 122/200 [00:57<00:35,  2.22it/s]"
     ]
    },
    {
     "name": "stdout",
     "output_type": "stream",
     "text": [
      "457/457 [==============================] - 0s 844us/step\n"
     ]
    },
    {
     "name": "stderr",
     "output_type": "stream",
     "text": [
      "\r",
      " 62%|██████▏   | 123/200 [00:57<00:34,  2.26it/s]"
     ]
    },
    {
     "name": "stdout",
     "output_type": "stream",
     "text": [
      "457/457 [==============================] - 0s 1ms/step\n"
     ]
    },
    {
     "name": "stderr",
     "output_type": "stream",
     "text": [
      "\r",
      " 62%|██████▏   | 124/200 [00:58<00:35,  2.17it/s]"
     ]
    },
    {
     "name": "stdout",
     "output_type": "stream",
     "text": [
      "457/457 [==============================] - 0s 805us/step\n"
     ]
    },
    {
     "name": "stderr",
     "output_type": "stream",
     "text": [
      "\r",
      " 62%|██████▎   | 125/200 [00:58<00:33,  2.24it/s]"
     ]
    },
    {
     "name": "stdout",
     "output_type": "stream",
     "text": [
      "457/457 [==============================] - 0s 967us/step\n"
     ]
    },
    {
     "name": "stderr",
     "output_type": "stream",
     "text": [
      "\r",
      " 63%|██████▎   | 126/200 [00:59<00:33,  2.19it/s]"
     ]
    },
    {
     "name": "stdout",
     "output_type": "stream",
     "text": [
      "457/457 [==============================] - 0s 829us/step\n"
     ]
    },
    {
     "name": "stderr",
     "output_type": "stream",
     "text": [
      "\r",
      " 64%|██████▎   | 127/200 [00:59<00:32,  2.24it/s]"
     ]
    },
    {
     "name": "stdout",
     "output_type": "stream",
     "text": [
      "457/457 [==============================] - 1s 1ms/step\n"
     ]
    },
    {
     "name": "stderr",
     "output_type": "stream",
     "text": [
      "\r",
      " 64%|██████▍   | 128/200 [00:59<00:34,  2.07it/s]"
     ]
    },
    {
     "name": "stdout",
     "output_type": "stream",
     "text": [
      "457/457 [==============================] - 1s 2ms/step\n"
     ]
    },
    {
     "name": "stderr",
     "output_type": "stream",
     "text": [
      "\r",
      " 64%|██████▍   | 129/200 [01:00<00:42,  1.67it/s]"
     ]
    },
    {
     "name": "stdout",
     "output_type": "stream",
     "text": [
      "457/457 [==============================] - 1s 1ms/step\n"
     ]
    },
    {
     "name": "stderr",
     "output_type": "stream",
     "text": [
      "\r",
      " 65%|██████▌   | 130/200 [01:01<00:41,  1.68it/s]"
     ]
    },
    {
     "name": "stdout",
     "output_type": "stream",
     "text": [
      "457/457 [==============================] - 0s 807us/step\n"
     ]
    },
    {
     "name": "stderr",
     "output_type": "stream",
     "text": [
      "\r",
      " 66%|██████▌   | 131/200 [01:01<00:37,  1.85it/s]"
     ]
    },
    {
     "name": "stdout",
     "output_type": "stream",
     "text": [
      "457/457 [==============================] - 0s 809us/step\n"
     ]
    },
    {
     "name": "stderr",
     "output_type": "stream",
     "text": [
      "\r",
      " 66%|██████▌   | 132/200 [01:02<00:34,  1.99it/s]"
     ]
    },
    {
     "name": "stdout",
     "output_type": "stream",
     "text": [
      "457/457 [==============================] - 0s 906us/step\n"
     ]
    },
    {
     "name": "stderr",
     "output_type": "stream",
     "text": [
      "\r",
      " 66%|██████▋   | 133/200 [01:02<00:32,  2.05it/s]"
     ]
    },
    {
     "name": "stdout",
     "output_type": "stream",
     "text": [
      "457/457 [==============================] - 0s 908us/step\n"
     ]
    },
    {
     "name": "stderr",
     "output_type": "stream",
     "text": [
      "\r",
      " 67%|██████▋   | 134/200 [01:03<00:31,  2.09it/s]"
     ]
    },
    {
     "name": "stdout",
     "output_type": "stream",
     "text": [
      "457/457 [==============================] - 0s 895us/step\n"
     ]
    },
    {
     "name": "stderr",
     "output_type": "stream",
     "text": [
      "\r",
      " 68%|██████▊   | 135/200 [01:03<00:30,  2.12it/s]"
     ]
    },
    {
     "name": "stdout",
     "output_type": "stream",
     "text": [
      "457/457 [==============================] - 0s 995us/step\n"
     ]
    },
    {
     "name": "stderr",
     "output_type": "stream",
     "text": [
      "\r",
      " 68%|██████▊   | 136/200 [01:04<00:30,  2.08it/s]"
     ]
    },
    {
     "name": "stdout",
     "output_type": "stream",
     "text": [
      "457/457 [==============================] - 0s 901us/step\n"
     ]
    },
    {
     "name": "stderr",
     "output_type": "stream",
     "text": [
      "\r",
      " 68%|██████▊   | 137/200 [01:04<00:29,  2.12it/s]"
     ]
    },
    {
     "name": "stdout",
     "output_type": "stream",
     "text": [
      "457/457 [==============================] - 0s 859us/step\n"
     ]
    },
    {
     "name": "stderr",
     "output_type": "stream",
     "text": [
      "\r",
      " 69%|██████▉   | 138/200 [01:05<00:28,  2.17it/s]"
     ]
    },
    {
     "name": "stdout",
     "output_type": "stream",
     "text": [
      "457/457 [==============================] - 0s 893us/step\n"
     ]
    },
    {
     "name": "stderr",
     "output_type": "stream",
     "text": [
      "\r",
      " 70%|██████▉   | 139/200 [01:05<00:27,  2.19it/s]"
     ]
    },
    {
     "name": "stdout",
     "output_type": "stream",
     "text": [
      "457/457 [==============================] - 0s 810us/step\n"
     ]
    },
    {
     "name": "stderr",
     "output_type": "stream",
     "text": [
      "\r",
      " 70%|███████   | 140/200 [01:05<00:26,  2.25it/s]"
     ]
    },
    {
     "name": "stdout",
     "output_type": "stream",
     "text": [
      "457/457 [==============================] - 0s 850us/step\n"
     ]
    },
    {
     "name": "stderr",
     "output_type": "stream",
     "text": [
      "\r",
      " 70%|███████   | 141/200 [01:06<00:26,  2.26it/s]"
     ]
    },
    {
     "name": "stdout",
     "output_type": "stream",
     "text": [
      "457/457 [==============================] - 0s 882us/step\n"
     ]
    },
    {
     "name": "stderr",
     "output_type": "stream",
     "text": [
      "\r",
      " 71%|███████   | 142/200 [01:06<00:25,  2.26it/s]"
     ]
    },
    {
     "name": "stdout",
     "output_type": "stream",
     "text": [
      "457/457 [==============================] - 0s 1ms/step\n"
     ]
    },
    {
     "name": "stderr",
     "output_type": "stream",
     "text": [
      "\r",
      " 72%|███████▏  | 143/200 [01:07<00:26,  2.15it/s]"
     ]
    },
    {
     "name": "stdout",
     "output_type": "stream",
     "text": [
      "457/457 [==============================] - 0s 1ms/step\n"
     ]
    },
    {
     "name": "stderr",
     "output_type": "stream",
     "text": [
      "\r",
      " 72%|███████▏  | 144/200 [01:07<00:27,  2.06it/s]"
     ]
    },
    {
     "name": "stdout",
     "output_type": "stream",
     "text": [
      "457/457 [==============================] - 0s 860us/step\n"
     ]
    },
    {
     "name": "stderr",
     "output_type": "stream",
     "text": [
      "\r",
      " 72%|███████▎  | 145/200 [01:08<00:25,  2.12it/s]"
     ]
    },
    {
     "name": "stdout",
     "output_type": "stream",
     "text": [
      "457/457 [==============================] - 0s 851us/step\n"
     ]
    },
    {
     "name": "stderr",
     "output_type": "stream",
     "text": [
      "\r",
      " 73%|███████▎  | 146/200 [01:08<00:24,  2.17it/s]"
     ]
    },
    {
     "name": "stdout",
     "output_type": "stream",
     "text": [
      "457/457 [==============================] - 0s 893us/step\n"
     ]
    },
    {
     "name": "stderr",
     "output_type": "stream",
     "text": [
      "\r",
      " 74%|███████▎  | 147/200 [01:09<00:24,  2.19it/s]"
     ]
    },
    {
     "name": "stdout",
     "output_type": "stream",
     "text": [
      "457/457 [==============================] - 0s 839us/step\n"
     ]
    },
    {
     "name": "stderr",
     "output_type": "stream",
     "text": [
      "\r",
      " 74%|███████▍  | 148/200 [01:09<00:23,  2.23it/s]"
     ]
    },
    {
     "name": "stdout",
     "output_type": "stream",
     "text": [
      "457/457 [==============================] - 0s 912us/step\n"
     ]
    },
    {
     "name": "stderr",
     "output_type": "stream",
     "text": [
      "\r",
      " 74%|███████▍  | 149/200 [01:10<00:23,  2.21it/s]"
     ]
    },
    {
     "name": "stdout",
     "output_type": "stream",
     "text": [
      "457/457 [==============================] - 1s 1ms/step\n"
     ]
    },
    {
     "name": "stderr",
     "output_type": "stream",
     "text": [
      "\r",
      " 75%|███████▌  | 150/200 [01:10<00:25,  1.97it/s]"
     ]
    },
    {
     "name": "stdout",
     "output_type": "stream",
     "text": [
      "457/457 [==============================] - 1s 1ms/step\n"
     ]
    },
    {
     "name": "stderr",
     "output_type": "stream",
     "text": [
      "\r",
      " 76%|███████▌  | 151/200 [01:11<00:25,  1.92it/s]"
     ]
    },
    {
     "name": "stdout",
     "output_type": "stream",
     "text": [
      "457/457 [==============================] - 0s 820us/step\n"
     ]
    },
    {
     "name": "stderr",
     "output_type": "stream",
     "text": [
      "\r",
      " 76%|███████▌  | 152/200 [01:11<00:23,  2.04it/s]"
     ]
    },
    {
     "name": "stdout",
     "output_type": "stream",
     "text": [
      "457/457 [==============================] - 1s 1ms/step\n"
     ]
    },
    {
     "name": "stderr",
     "output_type": "stream",
     "text": [
      "\r",
      " 76%|███████▋  | 153/200 [01:12<00:25,  1.85it/s]"
     ]
    },
    {
     "name": "stdout",
     "output_type": "stream",
     "text": [
      "457/457 [==============================] - 0s 875us/step\n"
     ]
    },
    {
     "name": "stderr",
     "output_type": "stream",
     "text": [
      "\r",
      " 77%|███████▋  | 154/200 [01:12<00:23,  1.95it/s]"
     ]
    },
    {
     "name": "stdout",
     "output_type": "stream",
     "text": [
      "457/457 [==============================] - 0s 839us/step\n"
     ]
    },
    {
     "name": "stderr",
     "output_type": "stream",
     "text": [
      "\r",
      " 78%|███████▊  | 155/200 [01:13<00:21,  2.06it/s]"
     ]
    },
    {
     "name": "stdout",
     "output_type": "stream",
     "text": [
      "457/457 [==============================] - 0s 923us/step\n"
     ]
    },
    {
     "name": "stderr",
     "output_type": "stream",
     "text": [
      "\r",
      " 78%|███████▊  | 156/200 [01:13<00:21,  2.09it/s]"
     ]
    },
    {
     "name": "stdout",
     "output_type": "stream",
     "text": [
      "457/457 [==============================] - 0s 902us/step\n"
     ]
    },
    {
     "name": "stderr",
     "output_type": "stream",
     "text": [
      "\r",
      " 78%|███████▊  | 157/200 [01:14<00:20,  2.12it/s]"
     ]
    },
    {
     "name": "stdout",
     "output_type": "stream",
     "text": [
      "457/457 [==============================] - 0s 998us/step\n"
     ]
    },
    {
     "name": "stderr",
     "output_type": "stream",
     "text": [
      "\r",
      " 79%|███████▉  | 158/200 [01:14<00:20,  2.08it/s]"
     ]
    },
    {
     "name": "stdout",
     "output_type": "stream",
     "text": [
      "457/457 [==============================] - 0s 969us/step\n"
     ]
    },
    {
     "name": "stderr",
     "output_type": "stream",
     "text": [
      "\r",
      " 80%|███████▉  | 159/200 [01:15<00:19,  2.07it/s]"
     ]
    },
    {
     "name": "stdout",
     "output_type": "stream",
     "text": [
      "457/457 [==============================] - 0s 1ms/step\n"
     ]
    },
    {
     "name": "stderr",
     "output_type": "stream",
     "text": [
      "\r",
      " 80%|████████  | 160/200 [01:15<00:19,  2.03it/s]"
     ]
    },
    {
     "name": "stdout",
     "output_type": "stream",
     "text": [
      "457/457 [==============================] - 1s 1ms/step\n"
     ]
    },
    {
     "name": "stderr",
     "output_type": "stream",
     "text": [
      "\r",
      " 80%|████████  | 161/200 [01:16<00:20,  1.94it/s]"
     ]
    },
    {
     "name": "stdout",
     "output_type": "stream",
     "text": [
      "457/457 [==============================] - 1s 1ms/step\n"
     ]
    },
    {
     "name": "stderr",
     "output_type": "stream",
     "text": [
      "\r",
      " 81%|████████  | 162/200 [01:16<00:21,  1.77it/s]"
     ]
    },
    {
     "name": "stdout",
     "output_type": "stream",
     "text": [
      "457/457 [==============================] - 1s 1ms/step\n"
     ]
    },
    {
     "name": "stderr",
     "output_type": "stream",
     "text": [
      "\r",
      " 82%|████████▏ | 163/200 [01:17<00:21,  1.76it/s]"
     ]
    },
    {
     "name": "stdout",
     "output_type": "stream",
     "text": [
      "457/457 [==============================] - 0s 1ms/step\n"
     ]
    },
    {
     "name": "stderr",
     "output_type": "stream",
     "text": [
      "\r",
      " 82%|████████▏ | 164/200 [01:17<00:20,  1.78it/s]"
     ]
    },
    {
     "name": "stdout",
     "output_type": "stream",
     "text": [
      "457/457 [==============================] - 0s 1ms/step\n"
     ]
    },
    {
     "name": "stderr",
     "output_type": "stream",
     "text": [
      "\r",
      " 82%|████████▎ | 165/200 [01:18<00:19,  1.80it/s]"
     ]
    },
    {
     "name": "stdout",
     "output_type": "stream",
     "text": [
      "457/457 [==============================] - 1s 1ms/step\n"
     ]
    },
    {
     "name": "stderr",
     "output_type": "stream",
     "text": [
      "\r",
      " 83%|████████▎ | 166/200 [01:19<00:19,  1.78it/s]"
     ]
    },
    {
     "name": "stdout",
     "output_type": "stream",
     "text": [
      "457/457 [==============================] - 1s 1ms/step\n"
     ]
    },
    {
     "name": "stderr",
     "output_type": "stream",
     "text": [
      "\r",
      " 84%|████████▎ | 167/200 [01:19<00:19,  1.73it/s]"
     ]
    },
    {
     "name": "stdout",
     "output_type": "stream",
     "text": [
      "457/457 [==============================] - 0s 981us/step\n"
     ]
    },
    {
     "name": "stderr",
     "output_type": "stream",
     "text": [
      "\r",
      " 84%|████████▍ | 168/200 [01:20<00:17,  1.81it/s]"
     ]
    },
    {
     "name": "stdout",
     "output_type": "stream",
     "text": [
      "457/457 [==============================] - 0s 1ms/step\n"
     ]
    },
    {
     "name": "stderr",
     "output_type": "stream",
     "text": [
      "\r",
      " 84%|████████▍ | 169/200 [01:20<00:16,  1.84it/s]"
     ]
    },
    {
     "name": "stdout",
     "output_type": "stream",
     "text": [
      "457/457 [==============================] - 1s 1ms/step\n"
     ]
    },
    {
     "name": "stderr",
     "output_type": "stream",
     "text": [
      "\r",
      " 85%|████████▌ | 170/200 [01:21<00:16,  1.81it/s]"
     ]
    },
    {
     "name": "stdout",
     "output_type": "stream",
     "text": [
      "457/457 [==============================] - 0s 1ms/step\n"
     ]
    },
    {
     "name": "stderr",
     "output_type": "stream",
     "text": [
      "\r",
      " 86%|████████▌ | 171/200 [01:21<00:15,  1.83it/s]"
     ]
    },
    {
     "name": "stdout",
     "output_type": "stream",
     "text": [
      "457/457 [==============================] - 0s 1ms/step\n"
     ]
    },
    {
     "name": "stderr",
     "output_type": "stream",
     "text": [
      "\r",
      " 86%|████████▌ | 172/200 [01:22<00:15,  1.86it/s]"
     ]
    },
    {
     "name": "stdout",
     "output_type": "stream",
     "text": [
      "457/457 [==============================] - 1s 1ms/step\n"
     ]
    },
    {
     "name": "stderr",
     "output_type": "stream",
     "text": [
      "\r",
      " 86%|████████▋ | 173/200 [01:22<00:15,  1.78it/s]"
     ]
    },
    {
     "name": "stdout",
     "output_type": "stream",
     "text": [
      "457/457 [==============================] - 1s 1ms/step\n"
     ]
    },
    {
     "name": "stderr",
     "output_type": "stream",
     "text": [
      "\r",
      " 87%|████████▋ | 174/200 [01:23<00:15,  1.67it/s]"
     ]
    },
    {
     "name": "stdout",
     "output_type": "stream",
     "text": [
      "457/457 [==============================] - 0s 977us/step\n"
     ]
    },
    {
     "name": "stderr",
     "output_type": "stream",
     "text": [
      "\r",
      " 88%|████████▊ | 175/200 [01:24<00:14,  1.76it/s]"
     ]
    },
    {
     "name": "stdout",
     "output_type": "stream",
     "text": [
      "457/457 [==============================] - 0s 811us/step\n"
     ]
    },
    {
     "name": "stderr",
     "output_type": "stream",
     "text": [
      "\r",
      " 88%|████████▊ | 176/200 [01:24<00:12,  1.92it/s]"
     ]
    },
    {
     "name": "stdout",
     "output_type": "stream",
     "text": [
      "457/457 [==============================] - 0s 849us/step\n"
     ]
    },
    {
     "name": "stderr",
     "output_type": "stream",
     "text": [
      "\r",
      " 88%|████████▊ | 177/200 [01:24<00:11,  2.03it/s]"
     ]
    },
    {
     "name": "stdout",
     "output_type": "stream",
     "text": [
      "457/457 [==============================] - 0s 820us/step\n"
     ]
    },
    {
     "name": "stderr",
     "output_type": "stream",
     "text": [
      "\r",
      " 89%|████████▉ | 178/200 [01:25<00:10,  2.12it/s]"
     ]
    },
    {
     "name": "stdout",
     "output_type": "stream",
     "text": [
      "457/457 [==============================] - 0s 842us/step\n"
     ]
    },
    {
     "name": "stderr",
     "output_type": "stream",
     "text": [
      "\r",
      " 90%|████████▉ | 179/200 [01:25<00:09,  2.17it/s]"
     ]
    },
    {
     "name": "stdout",
     "output_type": "stream",
     "text": [
      "457/457 [==============================] - 0s 851us/step\n"
     ]
    },
    {
     "name": "stderr",
     "output_type": "stream",
     "text": [
      "\r",
      " 90%|█████████ | 180/200 [01:26<00:09,  2.21it/s]"
     ]
    },
    {
     "name": "stdout",
     "output_type": "stream",
     "text": [
      "457/457 [==============================] - 0s 849us/step\n"
     ]
    },
    {
     "name": "stderr",
     "output_type": "stream",
     "text": [
      "\r",
      " 90%|█████████ | 181/200 [01:26<00:08,  2.25it/s]"
     ]
    },
    {
     "name": "stdout",
     "output_type": "stream",
     "text": [
      "457/457 [==============================] - 0s 807us/step\n"
     ]
    },
    {
     "name": "stderr",
     "output_type": "stream",
     "text": [
      "\r",
      " 91%|█████████ | 182/200 [01:27<00:07,  2.31it/s]"
     ]
    },
    {
     "name": "stdout",
     "output_type": "stream",
     "text": [
      "457/457 [==============================] - 0s 831us/step\n"
     ]
    },
    {
     "name": "stderr",
     "output_type": "stream",
     "text": [
      "\r",
      " 92%|█████████▏| 183/200 [01:27<00:07,  2.33it/s]"
     ]
    },
    {
     "name": "stdout",
     "output_type": "stream",
     "text": [
      "457/457 [==============================] - 0s 838us/step\n"
     ]
    },
    {
     "name": "stderr",
     "output_type": "stream",
     "text": [
      "\r",
      " 92%|█████████▏| 184/200 [01:27<00:06,  2.34it/s]"
     ]
    },
    {
     "name": "stdout",
     "output_type": "stream",
     "text": [
      "457/457 [==============================] - 0s 818us/step\n"
     ]
    },
    {
     "name": "stderr",
     "output_type": "stream",
     "text": [
      "\r",
      " 92%|█████████▎| 185/200 [01:28<00:06,  2.35it/s]"
     ]
    },
    {
     "name": "stdout",
     "output_type": "stream",
     "text": [
      "457/457 [==============================] - 0s 840us/step\n"
     ]
    },
    {
     "name": "stderr",
     "output_type": "stream",
     "text": [
      "\r",
      " 93%|█████████▎| 186/200 [01:28<00:05,  2.36it/s]"
     ]
    },
    {
     "name": "stdout",
     "output_type": "stream",
     "text": [
      "457/457 [==============================] - 0s 985us/step\n"
     ]
    },
    {
     "name": "stderr",
     "output_type": "stream",
     "text": [
      "\r",
      " 94%|█████████▎| 187/200 [01:29<00:05,  2.25it/s]"
     ]
    },
    {
     "name": "stdout",
     "output_type": "stream",
     "text": [
      "457/457 [==============================] - 0s 831us/step\n"
     ]
    },
    {
     "name": "stderr",
     "output_type": "stream",
     "text": [
      "\r",
      " 94%|█████████▍| 188/200 [01:29<00:05,  2.29it/s]"
     ]
    },
    {
     "name": "stdout",
     "output_type": "stream",
     "text": [
      "457/457 [==============================] - 0s 829us/step\n"
     ]
    },
    {
     "name": "stderr",
     "output_type": "stream",
     "text": [
      "\r",
      " 94%|█████████▍| 189/200 [01:30<00:04,  2.32it/s]"
     ]
    },
    {
     "name": "stdout",
     "output_type": "stream",
     "text": [
      "457/457 [==============================] - 0s 792us/step\n"
     ]
    },
    {
     "name": "stderr",
     "output_type": "stream",
     "text": [
      "\r",
      " 95%|█████████▌| 190/200 [01:30<00:04,  2.36it/s]"
     ]
    },
    {
     "name": "stdout",
     "output_type": "stream",
     "text": [
      "457/457 [==============================] - 0s 847us/step\n"
     ]
    },
    {
     "name": "stderr",
     "output_type": "stream",
     "text": [
      "\r",
      " 96%|█████████▌| 191/200 [01:30<00:03,  2.35it/s]"
     ]
    },
    {
     "name": "stdout",
     "output_type": "stream",
     "text": [
      "457/457 [==============================] - 0s 820us/step\n"
     ]
    },
    {
     "name": "stderr",
     "output_type": "stream",
     "text": [
      "\r",
      " 96%|█████████▌| 192/200 [01:31<00:03,  2.37it/s]"
     ]
    },
    {
     "name": "stdout",
     "output_type": "stream",
     "text": [
      "457/457 [==============================] - 0s 934us/step\n"
     ]
    },
    {
     "name": "stderr",
     "output_type": "stream",
     "text": [
      "\r",
      " 96%|█████████▋| 193/200 [01:31<00:03,  2.30it/s]"
     ]
    },
    {
     "name": "stdout",
     "output_type": "stream",
     "text": [
      "457/457 [==============================] - 0s 820us/step\n"
     ]
    },
    {
     "name": "stderr",
     "output_type": "stream",
     "text": [
      "\r",
      " 97%|█████████▋| 194/200 [01:32<00:02,  2.32it/s]"
     ]
    },
    {
     "name": "stdout",
     "output_type": "stream",
     "text": [
      "457/457 [==============================] - 0s 854us/step\n"
     ]
    },
    {
     "name": "stderr",
     "output_type": "stream",
     "text": [
      "\r",
      " 98%|█████████▊| 195/200 [01:32<00:02,  2.31it/s]"
     ]
    },
    {
     "name": "stdout",
     "output_type": "stream",
     "text": [
      "457/457 [==============================] - 0s 853us/step\n"
     ]
    },
    {
     "name": "stderr",
     "output_type": "stream",
     "text": [
      "\r",
      " 98%|█████████▊| 196/200 [01:33<00:01,  2.32it/s]"
     ]
    },
    {
     "name": "stdout",
     "output_type": "stream",
     "text": [
      "457/457 [==============================] - 0s 844us/step\n"
     ]
    },
    {
     "name": "stderr",
     "output_type": "stream",
     "text": [
      "\r",
      " 98%|█████████▊| 197/200 [01:33<00:01,  2.33it/s]"
     ]
    },
    {
     "name": "stdout",
     "output_type": "stream",
     "text": [
      "457/457 [==============================] - 0s 893us/step\n"
     ]
    },
    {
     "name": "stderr",
     "output_type": "stream",
     "text": [
      "\r",
      " 99%|█████████▉| 198/200 [01:33<00:00,  2.30it/s]"
     ]
    },
    {
     "name": "stdout",
     "output_type": "stream",
     "text": [
      "457/457 [==============================] - 0s 864us/step\n"
     ]
    },
    {
     "name": "stderr",
     "output_type": "stream",
     "text": [
      "\r",
      "100%|█████████▉| 199/200 [01:34<00:00,  2.30it/s]"
     ]
    },
    {
     "name": "stdout",
     "output_type": "stream",
     "text": [
      "457/457 [==============================] - 0s 879us/step\n"
     ]
    },
    {
     "name": "stderr",
     "output_type": "stream",
     "text": [
      "100%|██████████| 200/200 [01:34<00:00,  2.11it/s]\n"
     ]
    },
    {
     "data": {
      "text/plain": [
       "(0.01507537688442211, 2.052728905353041)"
      ]
     },
     "execution_count": 44,
     "metadata": {},
     "output_type": "execute_result"
    }
   ],
   "source": [
    "ensemble(pip_reg,best, X_test = X_test, y_test =y_test) "
   ]
  },
  {
   "cell_type": "code",
   "execution_count": 45,
   "metadata": {},
   "outputs": [
    {
     "ename": "NameError",
     "evalue": "name 'model1' is not defined",
     "output_type": "error",
     "traceback": [
      "\u001b[1;31m---------------------------------------------------------------------------\u001b[0m",
      "\u001b[1;31mNameError\u001b[0m                                 Traceback (most recent call last)",
      "\u001b[1;32m<ipython-input-45-d6ff0cdb2106>\u001b[0m in \u001b[0;36m<module>\u001b[1;34m\u001b[0m\n\u001b[0;32m      1\u001b[0m \u001b[0ma\u001b[0m\u001b[1;33m=\u001b[0m \u001b[1;36m0\u001b[0m\u001b[1;33m\u001b[0m\u001b[1;33m\u001b[0m\u001b[0m\n\u001b[0;32m      2\u001b[0m \u001b[0mmy_submission\u001b[0m \u001b[1;33m=\u001b[0m \u001b[0msubmission\u001b[0m\u001b[1;33m\u001b[0m\u001b[1;33m\u001b[0m\u001b[0m\n\u001b[1;32m----> 3\u001b[1;33m \u001b[0mmy_submission\u001b[0m\u001b[1;33m[\u001b[0m\u001b[1;34m\"LOS\"\u001b[0m\u001b[1;33m]\u001b[0m \u001b[1;33m=\u001b[0m   \u001b[1;33m(\u001b[0m\u001b[0ma\u001b[0m\u001b[1;33m*\u001b[0m \u001b[1;33m(\u001b[0m\u001b[0mmodel1\u001b[0m\u001b[1;33m.\u001b[0m\u001b[0mpredict\u001b[0m\u001b[1;33m(\u001b[0m\u001b[0mX_test\u001b[0m\u001b[1;33m)\u001b[0m\u001b[1;33m)\u001b[0m \u001b[1;33m+\u001b[0m \u001b[1;33m(\u001b[0m\u001b[1;36m1\u001b[0m\u001b[1;33m-\u001b[0m\u001b[0ma\u001b[0m\u001b[1;33m)\u001b[0m\u001b[1;33m*\u001b[0m\u001b[1;33m(\u001b[0m\u001b[0mmodel2\u001b[0m\u001b[1;33m.\u001b[0m\u001b[0mpredict\u001b[0m\u001b[1;33m(\u001b[0m\u001b[0mX_test\u001b[0m\u001b[1;33m)\u001b[0m\u001b[1;33m)\u001b[0m\u001b[1;33m)\u001b[0m\u001b[1;33m\u001b[0m\u001b[1;33m\u001b[0m\u001b[0m\n\u001b[0m\u001b[0;32m      4\u001b[0m \u001b[0mmy_submission\u001b[0m \u001b[1;33m=\u001b[0m \u001b[0mmy_submission\u001b[0m\u001b[1;33m.\u001b[0m\u001b[0msort_values\u001b[0m\u001b[1;33m(\u001b[0m\u001b[1;34m'icustay_id'\u001b[0m\u001b[1;33m)\u001b[0m\u001b[1;33m\u001b[0m\u001b[1;33m\u001b[0m\u001b[0m\n\u001b[0;32m      5\u001b[0m \u001b[0mmy_submission\u001b[0m\u001b[1;33m.\u001b[0m\u001b[0mto_csv\u001b[0m\u001b[1;33m(\u001b[0m\u001b[1;34m\"modelreg.csv\"\u001b[0m\u001b[1;33m,\u001b[0m \u001b[0mindex\u001b[0m\u001b[1;33m=\u001b[0m\u001b[1;32mFalse\u001b[0m\u001b[1;33m)\u001b[0m\u001b[1;33m\u001b[0m\u001b[1;33m\u001b[0m\u001b[0m\n",
      "\u001b[1;31mNameError\u001b[0m: name 'model1' is not defined"
     ]
    }
   ],
   "source": [
    "a= 0\n",
    "my_submission = submission\n",
    "my_submission[\"LOS\"] =   (a* (model1.predict(X_test)) + (1-a)*(model2.predict(X_test)))\n",
    "my_submission = my_submission.sort_values('icustay_id')\n",
    "my_submission.to_csv(\"modelreg.csv\", index=False)\n"
   ]
  },
  {
   "cell_type": "code",
   "execution_count": null,
   "metadata": {},
   "outputs": [],
   "source": []
  }
 ],
 "metadata": {
  "kernelspec": {
   "display_name": "Python 3",
   "language": "python",
   "name": "python3"
  },
  "language_info": {
   "codemirror_mode": {
    "name": "ipython",
    "version": 3
   },
   "file_extension": ".py",
   "mimetype": "text/x-python",
   "name": "python",
   "nbconvert_exporter": "python",
   "pygments_lexer": "ipython3",
   "version": "3.8.5"
  }
 },
 "nbformat": 4,
 "nbformat_minor": 4
}
